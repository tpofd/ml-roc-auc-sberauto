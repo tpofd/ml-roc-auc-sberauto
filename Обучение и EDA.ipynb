{
 "cells": [
  {
   "cell_type": "code",
   "execution_count": 1,
   "metadata": {
    "executionInfo": {
     "elapsed": 2994,
     "status": "ok",
     "timestamp": 1715705245053,
     "user": {
      "displayName": "Anastasia Gisina",
      "userId": "05227149390310412810"
     },
     "user_tz": -180
    },
    "id": "zjbUZmHCwQI7"
   },
   "outputs": [],
   "source": [
    "import sys\n",
    "import warnings\n",
    "from pathlib import Path\n",
    "from typing import Sequence, Union\n",
    "import os\n",
    "import pandas as pd\n",
    "import matplotlib.pyplot as plt\n",
    "import seaborn as sns\n",
    "from datetime import date, time, datetime\n",
    "import time"
   ]
  },
  {
   "cell_type": "code",
   "execution_count": 2,
   "metadata": {
    "executionInfo": {
     "elapsed": 2,
     "status": "ok",
     "timestamp": 1715705245053,
     "user": {
      "displayName": "Anastasia Gisina",
      "userId": "05227149390310412810"
     },
     "user_tz": -180
    },
    "id": "Hqgfl9Y5wZkI"
   },
   "outputs": [],
   "source": [
    "warnings.filterwarnings('ignore')"
   ]
  },
  {
   "cell_type": "markdown",
   "metadata": {
    "id": "AuHjjW1jyX0R"
   },
   "source": [
    "## Загрузка данных и проверка дубликатов"
   ]
  },
  {
   "cell_type": "code",
   "execution_count": 3,
   "metadata": {
    "executionInfo": {
     "elapsed": 35289,
     "status": "ok",
     "timestamp": 1715705280341,
     "user": {
      "displayName": "Anastasia Gisina",
      "userId": "05227149390310412810"
     },
     "user_tz": -180
    },
    "id": "bD96zAcRwcLR"
   },
   "outputs": [],
   "source": [
    "data_hits = pd.read_csv('data/ga_hits-002.csv')\n",
    "data_sessions = pd.read_csv('data/ga_sessions.csv')"
   ]
  },
  {
   "cell_type": "code",
   "execution_count": 4,
   "metadata": {
    "colab": {
     "base_uri": "https://localhost:8080/",
     "height": 309
    },
    "executionInfo": {
     "elapsed": 271,
     "status": "ok",
     "timestamp": 1715705280343,
     "user": {
      "displayName": "Anastasia Gisina",
      "userId": "05227149390310412810"
     },
     "user_tz": -180
    },
    "id": "CcpwjrYJyjQp",
    "outputId": "1f331f40-8053-4a42-e64d-f70dd0a268e1"
   },
   "outputs": [
    {
     "data": {
      "text/html": [
       "<div>\n",
       "<style scoped>\n",
       "    .dataframe tbody tr th:only-of-type {\n",
       "        vertical-align: middle;\n",
       "    }\n",
       "\n",
       "    .dataframe tbody tr th {\n",
       "        vertical-align: top;\n",
       "    }\n",
       "\n",
       "    .dataframe thead th {\n",
       "        text-align: right;\n",
       "    }\n",
       "</style>\n",
       "<table border=\"1\" class=\"dataframe\">\n",
       "  <thead>\n",
       "    <tr style=\"text-align: right;\">\n",
       "      <th></th>\n",
       "      <th>session_id</th>\n",
       "      <th>hit_date</th>\n",
       "      <th>hit_time</th>\n",
       "      <th>hit_number</th>\n",
       "      <th>hit_type</th>\n",
       "      <th>hit_referer</th>\n",
       "      <th>hit_page_path</th>\n",
       "      <th>event_category</th>\n",
       "      <th>event_action</th>\n",
       "      <th>event_label</th>\n",
       "      <th>event_value</th>\n",
       "    </tr>\n",
       "  </thead>\n",
       "  <tbody>\n",
       "    <tr>\n",
       "      <th>0</th>\n",
       "      <td>5639623078712724064.1640254056.1640254056</td>\n",
       "      <td>2021-12-23</td>\n",
       "      <td>597864.0</td>\n",
       "      <td>30</td>\n",
       "      <td>event</td>\n",
       "      <td>NaN</td>\n",
       "      <td>sberauto.com/cars?utm_source_initial=google&amp;ut...</td>\n",
       "      <td>quiz</td>\n",
       "      <td>quiz_show</td>\n",
       "      <td>NaN</td>\n",
       "      <td>NaN</td>\n",
       "    </tr>\n",
       "    <tr>\n",
       "      <th>1</th>\n",
       "      <td>7750352294969115059.1640271109.1640271109</td>\n",
       "      <td>2021-12-23</td>\n",
       "      <td>597331.0</td>\n",
       "      <td>41</td>\n",
       "      <td>event</td>\n",
       "      <td>NaN</td>\n",
       "      <td>sberauto.com/cars/fiat?city=1&amp;city=18&amp;rental_c...</td>\n",
       "      <td>quiz</td>\n",
       "      <td>quiz_show</td>\n",
       "      <td>NaN</td>\n",
       "      <td>NaN</td>\n",
       "    </tr>\n",
       "    <tr>\n",
       "      <th>2</th>\n",
       "      <td>885342191847998240.1640235807.1640235807</td>\n",
       "      <td>2021-12-23</td>\n",
       "      <td>796252.0</td>\n",
       "      <td>49</td>\n",
       "      <td>event</td>\n",
       "      <td>NaN</td>\n",
       "      <td>sberauto.com/cars/all/volkswagen/polo/e994838f...</td>\n",
       "      <td>quiz</td>\n",
       "      <td>quiz_show</td>\n",
       "      <td>NaN</td>\n",
       "      <td>NaN</td>\n",
       "    </tr>\n",
       "    <tr>\n",
       "      <th>3</th>\n",
       "      <td>142526202120934167.1640211014.1640211014</td>\n",
       "      <td>2021-12-23</td>\n",
       "      <td>934292.0</td>\n",
       "      <td>46</td>\n",
       "      <td>event</td>\n",
       "      <td>NaN</td>\n",
       "      <td>sberauto.com/cars?utm_source_initial=yandex&amp;ut...</td>\n",
       "      <td>quiz</td>\n",
       "      <td>quiz_show</td>\n",
       "      <td>NaN</td>\n",
       "      <td>NaN</td>\n",
       "    </tr>\n",
       "    <tr>\n",
       "      <th>4</th>\n",
       "      <td>3450086108837475701.1640265078.1640265078</td>\n",
       "      <td>2021-12-23</td>\n",
       "      <td>768741.0</td>\n",
       "      <td>79</td>\n",
       "      <td>event</td>\n",
       "      <td>NaN</td>\n",
       "      <td>sberauto.com/cars/all/mercedes-benz/cla-klasse...</td>\n",
       "      <td>quiz</td>\n",
       "      <td>quiz_show</td>\n",
       "      <td>NaN</td>\n",
       "      <td>NaN</td>\n",
       "    </tr>\n",
       "  </tbody>\n",
       "</table>\n",
       "</div>"
      ],
      "text/plain": [
       "                                  session_id    hit_date  hit_time  \\\n",
       "0  5639623078712724064.1640254056.1640254056  2021-12-23  597864.0   \n",
       "1  7750352294969115059.1640271109.1640271109  2021-12-23  597331.0   \n",
       "2   885342191847998240.1640235807.1640235807  2021-12-23  796252.0   \n",
       "3   142526202120934167.1640211014.1640211014  2021-12-23  934292.0   \n",
       "4  3450086108837475701.1640265078.1640265078  2021-12-23  768741.0   \n",
       "\n",
       "   hit_number hit_type hit_referer  \\\n",
       "0          30    event         NaN   \n",
       "1          41    event         NaN   \n",
       "2          49    event         NaN   \n",
       "3          46    event         NaN   \n",
       "4          79    event         NaN   \n",
       "\n",
       "                                       hit_page_path event_category  \\\n",
       "0  sberauto.com/cars?utm_source_initial=google&ut...           quiz   \n",
       "1  sberauto.com/cars/fiat?city=1&city=18&rental_c...           quiz   \n",
       "2  sberauto.com/cars/all/volkswagen/polo/e994838f...           quiz   \n",
       "3  sberauto.com/cars?utm_source_initial=yandex&ut...           quiz   \n",
       "4  sberauto.com/cars/all/mercedes-benz/cla-klasse...           quiz   \n",
       "\n",
       "  event_action event_label  event_value  \n",
       "0    quiz_show         NaN          NaN  \n",
       "1    quiz_show         NaN          NaN  \n",
       "2    quiz_show         NaN          NaN  \n",
       "3    quiz_show         NaN          NaN  \n",
       "4    quiz_show         NaN          NaN  "
      ]
     },
     "execution_count": 4,
     "metadata": {},
     "output_type": "execute_result"
    }
   ],
   "source": [
    "data_hits.head()"
   ]
  },
  {
   "cell_type": "code",
   "execution_count": 5,
   "metadata": {
    "colab": {
     "base_uri": "https://localhost:8080/"
    },
    "executionInfo": {
     "elapsed": 173,
     "status": "ok",
     "timestamp": 1715705280343,
     "user": {
      "displayName": "Anastasia Gisina",
      "userId": "05227149390310412810"
     },
     "user_tz": -180
    },
    "id": "DuvXHaAMys9A",
    "outputId": "9e1fba82-6125-4357-fa5e-c4a2d213496e"
   },
   "outputs": [
    {
     "data": {
      "text/plain": [
       "(15726470, 11)"
      ]
     },
     "execution_count": 5,
     "metadata": {},
     "output_type": "execute_result"
    }
   ],
   "source": [
    "data_hits.shape"
   ]
  },
  {
   "cell_type": "code",
   "execution_count": 6,
   "metadata": {
    "colab": {
     "base_uri": "https://localhost:8080/"
    },
    "executionInfo": {
     "elapsed": 135,
     "status": "ok",
     "timestamp": 1715705280343,
     "user": {
      "displayName": "Anastasia Gisina",
      "userId": "05227149390310412810"
     },
     "user_tz": -180
    },
    "id": "gKcC6Hsux3hQ",
    "outputId": "7eac47d9-b311-48dc-a645-2eb082d54362"
   },
   "outputs": [
    {
     "name": "stdout",
     "output_type": "stream",
     "text": [
      "<class 'pandas.core.frame.DataFrame'>\n",
      "RangeIndex: 15726470 entries, 0 to 15726469\n",
      "Data columns (total 11 columns):\n",
      " #   Column          Dtype  \n",
      "---  ------          -----  \n",
      " 0   session_id      object \n",
      " 1   hit_date        object \n",
      " 2   hit_time        float64\n",
      " 3   hit_number      int64  \n",
      " 4   hit_type        object \n",
      " 5   hit_referer     object \n",
      " 6   hit_page_path   object \n",
      " 7   event_category  object \n",
      " 8   event_action    object \n",
      " 9   event_label     object \n",
      " 10  event_value     float64\n",
      "dtypes: float64(2), int64(1), object(8)\n",
      "memory usage: 1.3+ GB\n"
     ]
    }
   ],
   "source": [
    "data_hits.info()"
   ]
  },
  {
   "cell_type": "code",
   "execution_count": 7,
   "metadata": {
    "colab": {
     "base_uri": "https://localhost:8080/",
     "height": 224
    },
    "executionInfo": {
     "elapsed": 128,
     "status": "ok",
     "timestamp": 1715705280343,
     "user": {
      "displayName": "Anastasia Gisina",
      "userId": "05227149390310412810"
     },
     "user_tz": -180
    },
    "id": "n1uQhx6Jyo4g",
    "outputId": "31cd3a98-562b-4d0f-de9b-e55ccec9f2e6"
   },
   "outputs": [
    {
     "data": {
      "text/html": [
       "<div>\n",
       "<style scoped>\n",
       "    .dataframe tbody tr th:only-of-type {\n",
       "        vertical-align: middle;\n",
       "    }\n",
       "\n",
       "    .dataframe tbody tr th {\n",
       "        vertical-align: top;\n",
       "    }\n",
       "\n",
       "    .dataframe thead th {\n",
       "        text-align: right;\n",
       "    }\n",
       "</style>\n",
       "<table border=\"1\" class=\"dataframe\">\n",
       "  <thead>\n",
       "    <tr style=\"text-align: right;\">\n",
       "      <th></th>\n",
       "      <th>session_id</th>\n",
       "      <th>client_id</th>\n",
       "      <th>visit_date</th>\n",
       "      <th>visit_time</th>\n",
       "      <th>visit_number</th>\n",
       "      <th>utm_source</th>\n",
       "      <th>utm_medium</th>\n",
       "      <th>utm_campaign</th>\n",
       "      <th>utm_adcontent</th>\n",
       "      <th>utm_keyword</th>\n",
       "      <th>device_category</th>\n",
       "      <th>device_os</th>\n",
       "      <th>device_brand</th>\n",
       "      <th>device_model</th>\n",
       "      <th>device_screen_resolution</th>\n",
       "      <th>device_browser</th>\n",
       "      <th>geo_country</th>\n",
       "      <th>geo_city</th>\n",
       "    </tr>\n",
       "  </thead>\n",
       "  <tbody>\n",
       "    <tr>\n",
       "      <th>0</th>\n",
       "      <td>9055434745589932991.1637753792.1637753792</td>\n",
       "      <td>2108382700.163775</td>\n",
       "      <td>2021-11-24</td>\n",
       "      <td>14:36:32</td>\n",
       "      <td>1</td>\n",
       "      <td>ZpYIoDJMcFzVoPFsHGJL</td>\n",
       "      <td>banner</td>\n",
       "      <td>LEoPHuyFvzoNfnzGgfcd</td>\n",
       "      <td>vCIpmpaGBnIQhyYNkXqp</td>\n",
       "      <td>puhZPIYqKXeFPaUviSjo</td>\n",
       "      <td>mobile</td>\n",
       "      <td>Android</td>\n",
       "      <td>Huawei</td>\n",
       "      <td>NaN</td>\n",
       "      <td>360x720</td>\n",
       "      <td>Chrome</td>\n",
       "      <td>Russia</td>\n",
       "      <td>Zlatoust</td>\n",
       "    </tr>\n",
       "    <tr>\n",
       "      <th>1</th>\n",
       "      <td>905544597018549464.1636867290.1636867290</td>\n",
       "      <td>210838531.163687</td>\n",
       "      <td>2021-11-14</td>\n",
       "      <td>08:21:30</td>\n",
       "      <td>1</td>\n",
       "      <td>MvfHsxITijuriZxsqZqt</td>\n",
       "      <td>cpm</td>\n",
       "      <td>FTjNLDyTrXaWYgZymFkV</td>\n",
       "      <td>xhoenQgDQsgfEPYNPwKO</td>\n",
       "      <td>IGUCNvHlhfHpROGclCit</td>\n",
       "      <td>mobile</td>\n",
       "      <td>Android</td>\n",
       "      <td>Samsung</td>\n",
       "      <td>NaN</td>\n",
       "      <td>385x854</td>\n",
       "      <td>Samsung Internet</td>\n",
       "      <td>Russia</td>\n",
       "      <td>Moscow</td>\n",
       "    </tr>\n",
       "    <tr>\n",
       "      <th>2</th>\n",
       "      <td>9055446045651783499.1640648526.1640648526</td>\n",
       "      <td>2108385331.164065</td>\n",
       "      <td>2021-12-28</td>\n",
       "      <td>02:42:06</td>\n",
       "      <td>1</td>\n",
       "      <td>ZpYIoDJMcFzVoPFsHGJL</td>\n",
       "      <td>banner</td>\n",
       "      <td>LEoPHuyFvzoNfnzGgfcd</td>\n",
       "      <td>vCIpmpaGBnIQhyYNkXqp</td>\n",
       "      <td>puhZPIYqKXeFPaUviSjo</td>\n",
       "      <td>mobile</td>\n",
       "      <td>Android</td>\n",
       "      <td>Huawei</td>\n",
       "      <td>NaN</td>\n",
       "      <td>360x720</td>\n",
       "      <td>Chrome</td>\n",
       "      <td>Russia</td>\n",
       "      <td>Krasnoyarsk</td>\n",
       "    </tr>\n",
       "    <tr>\n",
       "      <th>3</th>\n",
       "      <td>9055447046360770272.1622255328.1622255328</td>\n",
       "      <td>2108385564.162225</td>\n",
       "      <td>2021-05-29</td>\n",
       "      <td>05:00:00</td>\n",
       "      <td>1</td>\n",
       "      <td>kjsLglQLzykiRbcDiGcD</td>\n",
       "      <td>cpc</td>\n",
       "      <td>NaN</td>\n",
       "      <td>NOBKLgtuvqYWkXQHeYWM</td>\n",
       "      <td>NaN</td>\n",
       "      <td>mobile</td>\n",
       "      <td>NaN</td>\n",
       "      <td>Xiaomi</td>\n",
       "      <td>NaN</td>\n",
       "      <td>393x786</td>\n",
       "      <td>Chrome</td>\n",
       "      <td>Russia</td>\n",
       "      <td>Moscow</td>\n",
       "    </tr>\n",
       "    <tr>\n",
       "      <th>4</th>\n",
       "      <td>9055447046360770272.1622255345.1622255345</td>\n",
       "      <td>2108385564.162225</td>\n",
       "      <td>2021-05-29</td>\n",
       "      <td>05:00:00</td>\n",
       "      <td>2</td>\n",
       "      <td>kjsLglQLzykiRbcDiGcD</td>\n",
       "      <td>cpc</td>\n",
       "      <td>NaN</td>\n",
       "      <td>NaN</td>\n",
       "      <td>NaN</td>\n",
       "      <td>mobile</td>\n",
       "      <td>NaN</td>\n",
       "      <td>Xiaomi</td>\n",
       "      <td>NaN</td>\n",
       "      <td>393x786</td>\n",
       "      <td>Chrome</td>\n",
       "      <td>Russia</td>\n",
       "      <td>Moscow</td>\n",
       "    </tr>\n",
       "  </tbody>\n",
       "</table>\n",
       "</div>"
      ],
      "text/plain": [
       "                                  session_id          client_id  visit_date  \\\n",
       "0  9055434745589932991.1637753792.1637753792  2108382700.163775  2021-11-24   \n",
       "1   905544597018549464.1636867290.1636867290   210838531.163687  2021-11-14   \n",
       "2  9055446045651783499.1640648526.1640648526  2108385331.164065  2021-12-28   \n",
       "3  9055447046360770272.1622255328.1622255328  2108385564.162225  2021-05-29   \n",
       "4  9055447046360770272.1622255345.1622255345  2108385564.162225  2021-05-29   \n",
       "\n",
       "  visit_time  visit_number            utm_source utm_medium  \\\n",
       "0   14:36:32             1  ZpYIoDJMcFzVoPFsHGJL     banner   \n",
       "1   08:21:30             1  MvfHsxITijuriZxsqZqt        cpm   \n",
       "2   02:42:06             1  ZpYIoDJMcFzVoPFsHGJL     banner   \n",
       "3   05:00:00             1  kjsLglQLzykiRbcDiGcD        cpc   \n",
       "4   05:00:00             2  kjsLglQLzykiRbcDiGcD        cpc   \n",
       "\n",
       "           utm_campaign         utm_adcontent           utm_keyword  \\\n",
       "0  LEoPHuyFvzoNfnzGgfcd  vCIpmpaGBnIQhyYNkXqp  puhZPIYqKXeFPaUviSjo   \n",
       "1  FTjNLDyTrXaWYgZymFkV  xhoenQgDQsgfEPYNPwKO  IGUCNvHlhfHpROGclCit   \n",
       "2  LEoPHuyFvzoNfnzGgfcd  vCIpmpaGBnIQhyYNkXqp  puhZPIYqKXeFPaUviSjo   \n",
       "3                   NaN  NOBKLgtuvqYWkXQHeYWM                   NaN   \n",
       "4                   NaN                   NaN                   NaN   \n",
       "\n",
       "  device_category device_os device_brand device_model  \\\n",
       "0          mobile   Android       Huawei          NaN   \n",
       "1          mobile   Android      Samsung          NaN   \n",
       "2          mobile   Android       Huawei          NaN   \n",
       "3          mobile       NaN       Xiaomi          NaN   \n",
       "4          mobile       NaN       Xiaomi          NaN   \n",
       "\n",
       "  device_screen_resolution    device_browser geo_country     geo_city  \n",
       "0                  360x720            Chrome      Russia     Zlatoust  \n",
       "1                  385x854  Samsung Internet      Russia       Moscow  \n",
       "2                  360x720            Chrome      Russia  Krasnoyarsk  \n",
       "3                  393x786            Chrome      Russia       Moscow  \n",
       "4                  393x786            Chrome      Russia       Moscow  "
      ]
     },
     "execution_count": 7,
     "metadata": {},
     "output_type": "execute_result"
    }
   ],
   "source": [
    "data_sessions.head()"
   ]
  },
  {
   "cell_type": "code",
   "execution_count": 8,
   "metadata": {
    "colab": {
     "base_uri": "https://localhost:8080/"
    },
    "executionInfo": {
     "elapsed": 2104,
     "status": "ok",
     "timestamp": 1715705282322,
     "user": {
      "displayName": "Anastasia Gisina",
      "userId": "05227149390310412810"
     },
     "user_tz": -180
    },
    "id": "8udTuaFhyKc_",
    "outputId": "0c9a0f07-7fc6-49d0-fda8-7d5c6d8928ac"
   },
   "outputs": [
    {
     "name": "stdout",
     "output_type": "stream",
     "text": [
      "<class 'pandas.core.frame.DataFrame'>\n",
      "RangeIndex: 1860042 entries, 0 to 1860041\n",
      "Data columns (total 18 columns):\n",
      " #   Column                    Dtype \n",
      "---  ------                    ----- \n",
      " 0   session_id                object\n",
      " 1   client_id                 object\n",
      " 2   visit_date                object\n",
      " 3   visit_time                object\n",
      " 4   visit_number              int64 \n",
      " 5   utm_source                object\n",
      " 6   utm_medium                object\n",
      " 7   utm_campaign              object\n",
      " 8   utm_adcontent             object\n",
      " 9   utm_keyword               object\n",
      " 10  device_category           object\n",
      " 11  device_os                 object\n",
      " 12  device_brand              object\n",
      " 13  device_model              object\n",
      " 14  device_screen_resolution  object\n",
      " 15  device_browser            object\n",
      " 16  geo_country               object\n",
      " 17  geo_city                  object\n",
      "dtypes: int64(1), object(17)\n",
      "memory usage: 255.4+ MB\n"
     ]
    }
   ],
   "source": [
    "data_sessions.info()"
   ]
  },
  {
   "cell_type": "code",
   "execution_count": 9,
   "metadata": {
    "colab": {
     "base_uri": "https://localhost:8080/"
    },
    "executionInfo": {
     "elapsed": 24,
     "status": "ok",
     "timestamp": 1715705282322,
     "user": {
      "displayName": "Anastasia Gisina",
      "userId": "05227149390310412810"
     },
     "user_tz": -180
    },
    "id": "J3uEnPxmyqyH",
    "outputId": "882854a6-cf25-450c-8c1d-0f88664f3e26"
   },
   "outputs": [
    {
     "data": {
      "text/plain": [
       "(1860042, 18)"
      ]
     },
     "execution_count": 9,
     "metadata": {},
     "output_type": "execute_result"
    }
   ],
   "source": [
    "data_sessions.shape"
   ]
  },
  {
   "cell_type": "code",
   "execution_count": 10,
   "metadata": {
    "colab": {
     "base_uri": "https://localhost:8080/"
    },
    "executionInfo": {
     "elapsed": 9367,
     "status": "ok",
     "timestamp": 1715705291668,
     "user": {
      "displayName": "Anastasia Gisina",
      "userId": "05227149390310412810"
     },
     "user_tz": -180
    },
    "id": "IkMkLuXmyMO9",
    "outputId": "3374f6c0-d888-446c-8876-e10985387b56"
   },
   "outputs": [
    {
     "name": "stdout",
     "output_type": "stream",
     "text": [
      "Дубликаты data_hits: 0\n",
      "Дубликаты data_sessions: 0\n"
     ]
    }
   ],
   "source": [
    "print(f'Дубликаты data_hits: {data_hits.duplicated().sum()}')\n",
    "print(f'Дубликаты data_sessions: {data_sessions.duplicated().sum()}')"
   ]
  },
  {
   "cell_type": "markdown",
   "metadata": {
    "id": "-9XUdZqby36z"
   },
   "source": [
    "## Смотрим на data_hits"
   ]
  },
  {
   "cell_type": "code",
   "execution_count": 11,
   "metadata": {
    "colab": {
     "base_uri": "https://localhost:8080/"
    },
    "executionInfo": {
     "elapsed": 47,
     "status": "ok",
     "timestamp": 1715705291669,
     "user": {
      "displayName": "Anastasia Gisina",
      "userId": "05227149390310412810"
     },
     "user_tz": -180
    },
    "id": "Jp1lGAYMy60_",
    "outputId": "eebe7519-8557-4364-d53e-826711aa85f3"
   },
   "outputs": [
    {
     "data": {
      "text/plain": [
       "230"
      ]
     },
     "execution_count": 11,
     "metadata": {},
     "output_type": "execute_result"
    }
   ],
   "source": [
    "len(data_hits['event_action'].unique())"
   ]
  },
  {
   "cell_type": "code",
   "execution_count": 12,
   "metadata": {
    "executionInfo": {
     "elapsed": 19,
     "status": "ok",
     "timestamp": 1715705291669,
     "user": {
      "displayName": "Anastasia Gisina",
      "userId": "05227149390310412810"
     },
     "user_tz": -180
    },
    "id": "4GhWK-xVzWC0"
   },
   "outputs": [],
   "source": [
    "## оставим только целевые действия\n",
    "target_events = ['sub_car_claim_click', 'sub_car_claim_submit_click',\n",
    " 'sub_open_dialog_click', 'sub_custom_question_submit_click',\n",
    " 'sub_call_number_click', 'sub_callback_submit_click',\n",
    " 'sub_submit_success', 'sub_car_request_submit_click']\n",
    "\n",
    "target_hits = data_hits.loc[data_hits['event_action'].isin(target_events)]"
   ]
  },
  {
   "cell_type": "code",
   "execution_count": 13,
   "metadata": {
    "colab": {
     "base_uri": "https://localhost:8080/"
    },
    "executionInfo": {
     "elapsed": 425,
     "status": "ok",
     "timestamp": 1715705292078,
     "user": {
      "displayName": "Anastasia Gisina",
      "userId": "05227149390310412810"
     },
     "user_tz": -180
    },
    "id": "seVlRm21z_25",
    "outputId": "dbb3fb56-9e71-4ec5-f911-10dfea9969ff"
   },
   "outputs": [
    {
     "data": {
      "text/plain": [
       "Index(['session_id', 'hit_date', 'hit_time', 'hit_number', 'hit_type',\n",
       "       'hit_referer', 'hit_page_path', 'event_category', 'event_action',\n",
       "       'event_label', 'event_value'],\n",
       "      dtype='object')"
      ]
     },
     "execution_count": 13,
     "metadata": {},
     "output_type": "execute_result"
    }
   ],
   "source": [
    "data_hits.columns"
   ]
  },
  {
   "cell_type": "code",
   "execution_count": 14,
   "metadata": {
    "colab": {
     "base_uri": "https://localhost:8080/"
    },
    "executionInfo": {
     "elapsed": 28,
     "status": "ok",
     "timestamp": 1715705292079,
     "user": {
      "displayName": "Anastasia Gisina",
      "userId": "05227149390310412810"
     },
     "user_tz": -180
    },
    "id": "JGxSpCnpzCIB",
    "outputId": "e33a614a-cbd3-489d-cab8-d8c2bf4b1dcb"
   },
   "outputs": [
    {
     "data": {
      "text/plain": [
       "event_action\n",
       "sub_car_claim_click                 37928\n",
       "sub_open_dialog_click               25870\n",
       "sub_submit_success                  18439\n",
       "sub_car_claim_submit_click          12359\n",
       "sub_call_number_click                3653\n",
       "sub_callback_submit_click            3074\n",
       "sub_car_request_submit_click         2966\n",
       "sub_custom_question_submit_click      619\n",
       "Name: count, dtype: int64"
      ]
     },
     "execution_count": 14,
     "metadata": {},
     "output_type": "execute_result"
    }
   ],
   "source": [
    "## посмотрим топ самых популярных событий\n",
    "target_hits.event_action.value_counts().head(10)"
   ]
  },
  {
   "cell_type": "code",
   "execution_count": 15,
   "metadata": {
    "colab": {
     "base_uri": "https://localhost:8080/",
     "height": 741
    },
    "executionInfo": {
     "elapsed": 1088,
     "status": "ok",
     "timestamp": 1715705293150,
     "user": {
      "displayName": "Anastasia Gisina",
      "userId": "05227149390310412810"
     },
     "user_tz": -180
    },
    "id": "5ApVlQNgz7A5",
    "outputId": "4ba6b769-b449-4109-fc89-68594f092752"
   },
   "outputs": [
    {
     "data": {
      "image/png": "[encoded data removed]",
      "text/plain": [
       "<Figure size 800x600 with 1 Axes>"
      ]
     },
     "metadata": {},
     "output_type": "display_data"
    }
   ],
   "source": [
    "plt.figure(figsize=(8, 6))\n",
    "target_hits['event_action'].value_counts().plot(kind='bar')\n",
    "plt.title('Распределение целевого атрибута')\n",
    "plt.xlabel('Целевой атрибут')\n",
    "plt.ylabel('Частота')\n",
    "plt.show()"
   ]
  },
  {
   "cell_type": "code",
   "execution_count": 16,
   "metadata": {
    "colab": {
     "base_uri": "https://localhost:8080/",
     "height": 482
    },
    "executionInfo": {
     "elapsed": 23,
     "status": "ok",
     "timestamp": 1715705293151,
     "user": {
      "displayName": "Anastasia Gisina",
      "userId": "05227149390310412810"
     },
     "user_tz": -180
    },
    "id": "Kl-FiQiF1LCd",
    "outputId": "c61c420f-f83e-426c-8554-d44c731a9cf5"
   },
   "outputs": [
    {
     "data": {
      "image/png": "[encoded data removed]",
      "text/plain": [
       "<Figure size 1000x800 with 1 Axes>"
      ]
     },
     "metadata": {},
     "output_type": "display_data"
    }
   ],
   "source": [
    "event_action_counts = target_hits['event_action'].value_counts()\n",
    "\n",
    "plt.figure(figsize=(10, 8))\n",
    "plt.pie(event_action_counts, labels=event_action_counts.index, autopct='%1.1f%%', startangle=140)\n",
    "plt.axis('equal')\n",
    "plt.title('Распределение наиболее часто прилетающих event_action')\n",
    "plt.show()"
   ]
  },
  {
   "cell_type": "code",
   "execution_count": 17,
   "metadata": {
    "colab": {
     "base_uri": "https://localhost:8080/",
     "height": 544
    },
    "executionInfo": {
     "elapsed": 2551,
     "status": "ok",
     "timestamp": 1715705296135,
     "user": {
      "displayName": "Anastasia Gisina",
      "userId": "05227149390310412810"
     },
     "user_tz": -180
    },
    "id": "WESj5pJz0wVc",
    "outputId": "1b024eed-82c0-472e-e0f3-2de519f4341d"
   },
   "outputs": [
    {
     "data": {
      "image/png": "[encoded data removed]",
      "text/plain": [
       "<Figure size 1000x800 with 1 Axes>"
      ]
     },
     "metadata": {},
     "output_type": "display_data"
    }
   ],
   "source": [
    "session_event_counts = data_hits.groupby('session_id')['event_action'].count()\n",
    "\n",
    "plt.figure(figsize=(10, 8))\n",
    "plt.boxplot(session_event_counts)\n",
    "plt.title('Распределение количества событий за сессию')\n",
    "plt.ylabel('Количество событий')\n",
    "plt.show()"
   ]
  },
  {
   "cell_type": "code",
   "execution_count": 18,
   "metadata": {
    "colab": {
     "base_uri": "https://localhost:8080/"
    },
    "executionInfo": {
     "elapsed": 31,
     "status": "ok",
     "timestamp": 1715705296136,
     "user": {
      "displayName": "Anastasia Gisina",
      "userId": "05227149390310412810"
     },
     "user_tz": -180
    },
    "id": "ZVo-JkMZ0zpq",
    "outputId": "ef78e16a-f3c7-43f5-c177-7dbc6324dcad"
   },
   "outputs": [
    {
     "name": "stdout",
     "output_type": "stream",
     "text": [
      "Процент целевых событий от общего количества: 0.67%\n"
     ]
    }
   ],
   "source": [
    "total_events = len(data_hits)\n",
    "target_events = len(target_hits)\n",
    "percentage_target_events = (target_events / total_events) * 100\n",
    "\n",
    "print(f\"Процент целевых событий от общего количества: {percentage_target_events:.2f}%\")"
   ]
  },
  {
   "cell_type": "code",
   "execution_count": 19,
   "metadata": {
    "colab": {
     "base_uri": "https://localhost:8080/"
    },
    "executionInfo": {
     "elapsed": 27,
     "status": "ok",
     "timestamp": 1715705296136,
     "user": {
      "displayName": "Anastasia Gisina",
      "userId": "05227149390310412810"
     },
     "user_tz": -180
    },
    "id": "wAEKJTn62PQe",
    "outputId": "795b964f-fb25-47f7-d6ac-ff15fed29b8a"
   },
   "outputs": [
    {
     "data": {
      "text/plain": [
       "event_action\n",
       "view_card                  3558985\n",
       "view_new_card              3551009\n",
       "sub_landing                1798117\n",
       "go_to_car_card              973666\n",
       "sub_view_cars_click         791515\n",
       "search_form_region          512069\n",
       "search_form_search_btn      433748\n",
       "sap_search_form_cost_to     356596\n",
       "showed_number_ads           326274\n",
       "pagination_click            248944\n",
       "Name: count, dtype: int64"
      ]
     },
     "execution_count": 19,
     "metadata": {},
     "output_type": "execute_result"
    }
   ],
   "source": [
    "data_hits.event_action.value_counts().head(10)"
   ]
  },
  {
   "cell_type": "code",
   "execution_count": 20,
   "metadata": {
    "colab": {
     "base_uri": "https://localhost:8080/"
    },
    "executionInfo": {
     "elapsed": 1119,
     "status": "ok",
     "timestamp": 1715705297234,
     "user": {
      "displayName": "Anastasia Gisina",
      "userId": "05227149390310412810"
     },
     "user_tz": -180
    },
    "id": "_3wQpVJc2yTQ",
    "outputId": "76299b98-a0ff-47d8-fcc9-2bea3fb443bb"
   },
   "outputs": [
    {
     "data": {
      "text/plain": [
       "0          1970-01-01 00:00:00.000597864\n",
       "1          1970-01-01 00:00:00.000597331\n",
       "2          1970-01-01 00:00:00.000796252\n",
       "3          1970-01-01 00:00:00.000934292\n",
       "4          1970-01-01 00:00:00.000768741\n",
       "                        ...             \n",
       "15726465   1970-01-01 00:00:00.000810589\n",
       "15726466   1970-01-01 00:00:00.000904927\n",
       "15726467   1970-01-01 00:00:00.002172865\n",
       "15726468   1970-01-01 00:00:00.000713325\n",
       "15726469   1970-01-01 00:00:00.000742820\n",
       "Name: hit_time, Length: 15726470, dtype: datetime64[ns]"
      ]
     },
     "execution_count": 20,
     "metadata": {},
     "output_type": "execute_result"
    }
   ],
   "source": [
    "pd.to_datetime(data_hits['hit_time'])"
   ]
  },
  {
   "cell_type": "code",
   "execution_count": 21,
   "metadata": {
    "colab": {
     "base_uri": "https://localhost:8080/",
     "height": 400
    },
    "executionInfo": {
     "elapsed": 2493,
     "status": "ok",
     "timestamp": 1715705299719,
     "user": {
      "displayName": "Anastasia Gisina",
      "userId": "05227149390310412810"
     },
     "user_tz": -180
    },
    "id": "kCpUMcuu2Tpy",
    "outputId": "1dd18ed5-24bf-47fc-e451-14092ba00671"
   },
   "outputs": [
    {
     "data": {
      "image/png": "[encoded data removed]",
      "text/plain": [
       "<Figure size 1200x600 with 1 Axes>"
      ]
     },
     "metadata": {},
     "output_type": "display_data"
    }
   ],
   "source": [
    "data_hits['hit_time'] = pd.to_timedelta(data_hits['hit_time'])\n",
    "data_hits['hit_datetime'] = pd.to_datetime(data_hits['hit_date']) + data_hits['hit_time']\n",
    "data_hits['date'] = data_hits['hit_datetime'].dt.date\n",
    "active_sessions_per_day = data_hits.groupby('date')['session_id'].nunique()\n",
    "\n",
    "plt.figure(figsize=(12, 6))\n",
    "plt.plot(active_sessions_per_day.index, active_sessions_per_day.values, marker='o', color='b')\n",
    "plt.title('Количество активных сессий за день')\n",
    "plt.xlabel('Дата')\n",
    "plt.ylabel('Количество активных сессий')\n",
    "plt.xticks(rotation=45)\n",
    "plt.grid(True)\n",
    "plt.show()"
   ]
  },
  {
   "cell_type": "code",
   "execution_count": 22,
   "metadata": {
    "colab": {
     "base_uri": "https://localhost:8080/"
    },
    "executionInfo": {
     "elapsed": 28,
     "status": "ok",
     "timestamp": 1715705299720,
     "user": {
      "displayName": "Anastasia Gisina",
      "userId": "05227149390310412810"
     },
     "user_tz": -180
    },
    "id": "egLC53kN3fhA",
    "outputId": "4b9e9fbe-dcfc-46d4-e909-3f5296d1435f"
   },
   "outputs": [
    {
     "name": "stdout",
     "output_type": "stream",
     "text": [
      "2021-05-19 00:00:00 2021-12-31 00:00:00\n"
     ]
    }
   ],
   "source": [
    "print(pd.to_datetime(data_hits['hit_date']).min(), pd.to_datetime(data_hits['hit_date']).max())"
   ]
  },
  {
   "cell_type": "code",
   "execution_count": 23,
   "metadata": {
    "colab": {
     "base_uri": "https://localhost:8080/",
     "height": 142
    },
    "executionInfo": {
     "elapsed": 13,
     "status": "ok",
     "timestamp": 1715705299721,
     "user": {
      "displayName": "Anastasia Gisina",
      "userId": "05227149390310412810"
     },
     "user_tz": -180
    },
    "id": "wVQv8HZM4vXM",
    "outputId": "3b14a19e-5b4c-4635-9d43-29dfe3bfa0d4"
   },
   "outputs": [
    {
     "data": {
      "text/html": [
       "<div>\n",
       "<style scoped>\n",
       "    .dataframe tbody tr th:only-of-type {\n",
       "        vertical-align: middle;\n",
       "    }\n",
       "\n",
       "    .dataframe tbody tr th {\n",
       "        vertical-align: top;\n",
       "    }\n",
       "\n",
       "    .dataframe thead th {\n",
       "        text-align: right;\n",
       "    }\n",
       "</style>\n",
       "<table border=\"1\" class=\"dataframe\">\n",
       "  <thead>\n",
       "    <tr style=\"text-align: right;\">\n",
       "      <th></th>\n",
       "      <th>hit_time</th>\n",
       "      <th>hit_number</th>\n",
       "      <th>event_value</th>\n",
       "    </tr>\n",
       "  </thead>\n",
       "  <tbody>\n",
       "    <tr>\n",
       "      <th>hit_time</th>\n",
       "      <td>1.000000</td>\n",
       "      <td>0.641646</td>\n",
       "      <td>NaN</td>\n",
       "    </tr>\n",
       "    <tr>\n",
       "      <th>hit_number</th>\n",
       "      <td>0.641646</td>\n",
       "      <td>1.000000</td>\n",
       "      <td>NaN</td>\n",
       "    </tr>\n",
       "    <tr>\n",
       "      <th>event_value</th>\n",
       "      <td>NaN</td>\n",
       "      <td>NaN</td>\n",
       "      <td>NaN</td>\n",
       "    </tr>\n",
       "  </tbody>\n",
       "</table>\n",
       "</div>"
      ],
      "text/plain": [
       "             hit_time  hit_number  event_value\n",
       "hit_time     1.000000    0.641646          NaN\n",
       "hit_number   0.641646    1.000000          NaN\n",
       "event_value       NaN         NaN          NaN"
      ]
     },
     "execution_count": 23,
     "metadata": {},
     "output_type": "execute_result"
    }
   ],
   "source": [
    "numerical_cols = target_hits.select_dtypes(include=['int', 'float']).columns\n",
    "corr = target_hits[numerical_cols].corr()\n",
    "corr"
   ]
  },
  {
   "cell_type": "code",
   "execution_count": 24,
   "metadata": {},
   "outputs": [
    {
     "data": {
      "text/plain": [
       "Index(['session_id', 'hit_date', 'hit_time', 'hit_number', 'hit_type',\n",
       "       'hit_referer', 'hit_page_path', 'event_category', 'event_action',\n",
       "       'event_label', 'event_value', 'hit_datetime', 'date'],\n",
       "      dtype='object')"
      ]
     },
     "execution_count": 24,
     "metadata": {},
     "output_type": "execute_result"
    }
   ],
   "source": [
    "data_hits.columns"
   ]
  },
  {
   "cell_type": "code",
   "execution_count": 25,
   "metadata": {},
   "outputs": [],
   "source": [
    "del target_hits\n",
    "del corr\n",
    "del numerical_cols\n",
    "del active_sessions_per_day\n",
    "del session_event_counts\n",
    "del event_action_counts\n",
    "del data_hits"
   ]
  },
  {
   "cell_type": "code",
   "execution_count": 26,
   "metadata": {},
   "outputs": [],
   "source": [
    "plt.close('all')"
   ]
  },
  {
   "cell_type": "markdown",
   "metadata": {
    "id": "SyOEuAko3b1I"
   },
   "source": [
    "В целом, видно, что на сайте довольно много пользователей, но они мало совершают целевые действия. Процент целевых событий от общего количества: 0.67%  \n",
    "Больше всего событий, касающихся просмотра сайта, это может означать, что в целом сайт интересует пользователей, но что-то ломает воронку и препятствует совершению целевых действий  \n",
    "Особой корреляции между параметрами в датасете нет\n",
    "\n",
    "## Смотрим data_sessions"
   ]
  },
  {
   "cell_type": "code",
   "execution_count": 27,
   "metadata": {
    "colab": {
     "base_uri": "https://localhost:8080/"
    },
    "executionInfo": {
     "elapsed": 2046,
     "status": "ok",
     "timestamp": 1715705301756,
     "user": {
      "displayName": "Anastasia Gisina",
      "userId": "05227149390310412810"
     },
     "user_tz": -180
    },
    "id": "qf0Umagy3SfO",
    "outputId": "bc432046-083c-4e99-fb82-aacf2b1d793f"
   },
   "outputs": [
    {
     "name": "stdout",
     "output_type": "stream",
     "text": [
      "Процент пропущенных значений по каждому столбцу:\n",
      "session_id                   0.000000\n",
      "client_id                    0.000000\n",
      "visit_date                   0.000000\n",
      "visit_time                   0.000000\n",
      "visit_number                 0.000000\n",
      "utm_source                   0.005215\n",
      "utm_medium                   0.000000\n",
      "utm_campaign                11.806346\n",
      "utm_adcontent               18.043410\n",
      "utm_keyword                 58.174009\n",
      "device_category              0.000000\n",
      "device_os                   57.533002\n",
      "device_brand                19.740307\n",
      "device_model                99.121633\n",
      "device_screen_resolution     0.000000\n",
      "device_browser               0.000000\n",
      "geo_country                  0.000000\n",
      "geo_city                     0.000000\n",
      "dtype: float64\n"
     ]
    }
   ],
   "source": [
    "print(\"Процент пропущенных значений по каждому столбцу:\")\n",
    "print(data_sessions.isnull().mean() * 100)"
   ]
  },
  {
   "cell_type": "code",
   "execution_count": 28,
   "metadata": {
    "executionInfo": {
     "elapsed": 5691,
     "status": "ok",
     "timestamp": 1715705307829,
     "user": {
      "displayName": "Anastasia Gisina",
      "userId": "05227149390310412810"
     },
     "user_tz": -180
    },
    "id": "u5a5Jz6V53jE"
   },
   "outputs": [],
   "source": [
    "data_sessions['visit_date'] = pd.to_datetime(data_sessions['visit_date'])\n",
    "data_sessions['visit_time'] = pd.to_datetime(data_sessions['visit_time'])"
   ]
  },
  {
   "cell_type": "code",
   "execution_count": 29,
   "metadata": {
    "colab": {
     "base_uri": "https://localhost:8080/",
     "height": 408
    },
    "executionInfo": {
     "elapsed": 2873,
     "status": "ok",
     "timestamp": 1715705310699,
     "user": {
      "displayName": "Anastasia Gisina",
      "userId": "05227149390310412810"
     },
     "user_tz": -180
    },
    "id": "9L62hmTI55sp",
    "outputId": "f6ec276f-2d75-444e-cc4a-d8b16575a932"
   },
   "outputs": [
    {
     "data": {
      "image/png": "[encoded data removed]",
      "text/plain": [
       "<Figure size 1000x600 with 1 Axes>"
      ]
     },
     "metadata": {},
     "output_type": "display_data"
    }
   ],
   "source": [
    "plt.figure(figsize=(10, 6))\n",
    "sns.countplot(y='geo_country', data=data_sessions, order=data_sessions['geo_country'].value_counts().head(10).index)\n",
    "plt.title('Распределение по странам')\n",
    "plt.show()"
   ]
  },
  {
   "cell_type": "code",
   "execution_count": 30,
   "metadata": {
    "colab": {
     "base_uri": "https://localhost:8080/",
     "height": 464
    },
    "executionInfo": {
     "elapsed": 4895,
     "status": "ok",
     "timestamp": 1715705315589,
     "user": {
      "displayName": "Anastasia Gisina",
      "userId": "05227149390310412810"
     },
     "user_tz": -180
    },
    "id": "92yxvXkl57RM",
    "outputId": "263c8a29-f871-4ac7-b432-c361fe4c01e6"
   },
   "outputs": [
    {
     "data": {
      "image/png": "[encoded data removed]",
      "text/plain": [
       "<Figure size 800x500 with 1 Axes>"
      ]
     },
     "metadata": {},
     "output_type": "display_data"
    }
   ],
   "source": [
    "plt.figure(figsize=(8, 5))\n",
    "sns.countplot(x='device_category', data=data_sessions)\n",
    "plt.title('Распределение по категориям устройств')\n",
    "plt.show()"
   ]
  },
  {
   "cell_type": "code",
   "execution_count": 31,
   "metadata": {
    "colab": {
     "base_uri": "https://localhost:8080/",
     "height": 392
    },
    "executionInfo": {
     "elapsed": 2143,
     "status": "ok",
     "timestamp": 1715705317718,
     "user": {
      "displayName": "Anastasia Gisina",
      "userId": "05227149390310412810"
     },
     "user_tz": -180
    },
    "id": "9_A241w-6AKS",
    "outputId": "3f8914a8-63a4-4d2c-bd6c-c50c8030672e"
   },
   "outputs": [
    {
     "data": {
      "image/png": "[encoded data removed]",
      "text/plain": [
       "<Figure size 1200x600 with 1 Axes>"
      ]
     },
     "metadata": {},
     "output_type": "display_data"
    }
   ],
   "source": [
    "sessions_per_day = data_sessions.groupby('visit_date').size().reset_index(name='session_count')\n",
    "\n",
    "plt.figure(figsize=(12, 6))\n",
    "sns.lineplot(x='visit_date', y='session_count', data=sessions_per_day)\n",
    "plt.title('Количество сессий по дням')\n",
    "plt.xlabel('Дата')\n",
    "plt.ylabel('Количество сессий')\n",
    "plt.xticks(rotation=45)\n",
    "plt.show()"
   ]
  },
  {
   "cell_type": "code",
   "execution_count": 32,
   "metadata": {
    "colab": {
     "base_uri": "https://localhost:8080/",
     "height": 366
    },
    "executionInfo": {
     "elapsed": 1209,
     "status": "ok",
     "timestamp": 1715705318836,
     "user": {
      "displayName": "Anastasia Gisina",
      "userId": "05227149390310412810"
     },
     "user_tz": -180
    },
    "id": "IJ0Gekco8D4-",
    "outputId": "c49c4794-cb28-453a-ae4a-194bb1bc5afa"
   },
   "outputs": [
    {
     "data": {
      "image/png": "[encoded data removed]",
      "text/plain": [
       "<Figure size 1200x600 with 1 Axes>"
      ]
     },
     "metadata": {},
     "output_type": "display_data"
    }
   ],
   "source": [
    "data_sessions['day_of_week'] = data_sessions['visit_date'].dt.dayofweek\n",
    "sessions_per_day_of_week = data_sessions.groupby('day_of_week').size().reset_index(name='session_count')\n",
    "days_of_week = ['Понедельник', 'Вторник', 'Среда', 'Четверг', 'Пятница', 'Суббота', 'Воскресенье']\n",
    "\n",
    "plt.figure(figsize=(12, 6))\n",
    "sns.barplot(x='day_of_week', y='session_count', data=sessions_per_day_of_week)\n",
    "plt.title('Количество сессий по дням недели')\n",
    "plt.xlabel('День недели')\n",
    "plt.ylabel('Количество сессий')\n",
    "plt.xticks(ticks=range(7), labels=days_of_week)\n",
    "plt.show()"
   ]
  },
  {
   "cell_type": "code",
   "execution_count": 33,
   "metadata": {
    "colab": {
     "base_uri": "https://localhost:8080/"
    },
    "executionInfo": {
     "elapsed": 27,
     "status": "ok",
     "timestamp": 1715705318837,
     "user": {
      "displayName": "Anastasia Gisina",
      "userId": "05227149390310412810"
     },
     "user_tz": -180
    },
    "id": "dsdKCb0T8WD8",
    "outputId": "1a28c91d-9e01-475f-b598-d12096a3484c"
   },
   "outputs": [
    {
     "data": {
      "text/plain": [
       "Index(['session_id', 'client_id', 'visit_date', 'visit_time', 'visit_number',\n",
       "       'utm_source', 'utm_medium', 'utm_campaign', 'utm_adcontent',\n",
       "       'utm_keyword', 'device_category', 'device_os', 'device_brand',\n",
       "       'device_model', 'device_screen_resolution', 'device_browser',\n",
       "       'geo_country', 'geo_city', 'day_of_week'],\n",
       "      dtype='object')"
      ]
     },
     "execution_count": 33,
     "metadata": {},
     "output_type": "execute_result"
    }
   ],
   "source": [
    "data_sessions.columns"
   ]
  },
  {
   "cell_type": "code",
   "execution_count": 34,
   "metadata": {},
   "outputs": [],
   "source": [
    "del sessions_per_day\n",
    "del sessions_per_day_of_week\n",
    "del days_of_week\n",
    "del data_sessions"
   ]
  },
  {
   "cell_type": "code",
   "execution_count": 35,
   "metadata": {},
   "outputs": [],
   "source": [
    "plt.close('all')"
   ]
  },
  {
   "cell_type": "markdown",
   "metadata": {},
   "source": [
    "## Начнем анализировать смешанные данные \n",
    "\n",
    "Так как данные очень большие, чтобы не умирала оперативная память будем использовать dask"
   ]
  },
  {
   "cell_type": "code",
   "execution_count": 36,
   "metadata": {},
   "outputs": [],
   "source": [
    "import dask.dataframe as dd \n",
    "\n",
    "data_sessions = dd.read_csv('data/ga_sessions.csv', dtype={'client_id': 'object', 'device_model': 'object'})\n",
    "data_hits = dd.read_csv('data/ga_hits-002.csv', dtype={'client_id': 'object', \n",
    "                                                       'device_model': 'object', \n",
    "                                                       'event_label': 'object'})\n",
    "merged_data = dd.merge(data_sessions, data_hits, on='session_id', how='inner')\n",
    "\n",
    "merged_data = merged_data.compute()"
   ]
  },
  {
   "cell_type": "code",
   "execution_count": 37,
   "metadata": {},
   "outputs": [],
   "source": [
    "del data_sessions\n",
    "del data_hits"
   ]
  },
  {
   "cell_type": "markdown",
   "metadata": {
    "id": "7G_Jy6de9Bkf"
   },
   "source": [
    "## Поработаем немного с utm метками\n",
    "\n",
    "Создадим признаки, что человек пришел из соц сетей и из органикии"
   ]
  },
  {
   "cell_type": "code",
   "execution_count": 38,
   "metadata": {
    "executionInfo": {
     "elapsed": 285,
     "status": "ok",
     "timestamp": 1715705579016,
     "user": {
      "displayName": "Anastasia Gisina",
      "userId": "05227149390310412810"
     },
     "user_tz": -180
    },
    "id": "xoWBsld98Xnh"
   },
   "outputs": [],
   "source": [
    "social_media_utms = ['QxAxdyPLuQMEcrdZWdWb', 'MvfHsxITijuriZxsqZqt',\n",
    "                     'ISrKoXQCxqqYvAZICvjs', 'IZEXUFLARCUMynmHNBGo',\n",
    "                     'PlbkrSYoHuZBWfYjYnfw', 'gVRrcxiDQubJiljoTbGm']\n",
    "\n",
    "target_events = ['sub_car_claim_click', 'sub_car_claim_submit_click',\n",
    " 'sub_open_dialog_click', 'sub_custom_question_submit_click',\n",
    " 'sub_call_number_click', 'sub_callback_submit_click',\n",
    " 'sub_submit_success', 'sub_car_request_submit_click']\n",
    "\n",
    "organic_utms_medium = ['organic', 'referral', '(none)']"
   ]
  },
  {
   "cell_type": "code",
   "execution_count": 39,
   "metadata": {
    "executionInfo": {
     "elapsed": 40,
     "status": "ok",
     "timestamp": 1715705331301,
     "user": {
      "displayName": "Anastasia Gisina",
      "userId": "05227149390310412810"
     },
     "user_tz": -180
    },
    "id": "45ZUSDPh9q4G"
   },
   "outputs": [],
   "source": [
    "merged_data['from_social'] =  merged_data['utm_source'].isin(social_media_utms)"
   ]
  },
  {
   "cell_type": "code",
   "execution_count": 40,
   "metadata": {
    "executionInfo": {
     "elapsed": 68,
     "status": "ok",
     "timestamp": 1715705334905,
     "user": {
      "displayName": "Anastasia Gisina",
      "userId": "05227149390310412810"
     },
     "user_tz": -180
    },
    "id": "UZYpgU2L-qJg"
   },
   "outputs": [],
   "source": [
    "merged_data['is_target'] = merged_data['event_action'].isin(target_events)"
   ]
  },
  {
   "cell_type": "code",
   "execution_count": 41,
   "metadata": {},
   "outputs": [],
   "source": [
    "merged_data['is_target'] = merged_data['is_target'].astype(int)\n",
    "merged_data['from_social'] = merged_data['from_social'].astype(int)"
   ]
  },
  {
   "cell_type": "markdown",
   "metadata": {},
   "source": [
    "Ну и посмотрим еще пару графиков"
   ]
  },
  {
   "cell_type": "code",
   "execution_count": 42,
   "metadata": {
    "colab": {
     "base_uri": "https://localhost:8080/",
     "height": 534
    },
    "executionInfo": {
     "elapsed": 12478,
     "status": "ok",
     "timestamp": 1715705331299,
     "user": {
      "displayName": "Anastasia Gisina",
      "userId": "05227149390310412810"
     },
     "user_tz": -180
    },
    "id": "BhDPxWrr9Ijo",
    "outputId": "b0fbca73-ffcf-4e02-b9de-be5e2206f5c8"
   },
   "outputs": [
    {
     "data": {
      "image/png": "[encoded data removed]",
      "text/plain": [
       "<Figure size 800x600 with 1 Axes>"
      ]
     },
     "metadata": {},
     "output_type": "display_data"
    }
   ],
   "source": [
    "plt.figure(figsize=(8, 6))\n",
    "sns.boxplot(x='hit_type', y='hit_number', data=merged_data)\n",
    "plt.title('Распределение hit_number по типу hit_type')\n",
    "plt.xlabel('Тип hit_type')\n",
    "plt.ylabel('hit_number')\n",
    "plt.show()"
   ]
  },
  {
   "cell_type": "code",
   "execution_count": 43,
   "metadata": {
    "colab": {
     "base_uri": "https://localhost:8080/",
     "height": 507
    },
    "executionInfo": {
     "elapsed": 10564,
     "status": "ok",
     "timestamp": 1715705545493,
     "user": {
      "displayName": "Anastasia Gisina",
      "userId": "05227149390310412810"
     },
     "user_tz": -180
    },
    "id": "R_4Nq_5zBNDF",
    "outputId": "7d648538-5949-4643-fc2f-46596032244a"
   },
   "outputs": [
    {
     "data": {
      "image/png": "[encoded data removed]",
      "text/plain": [
       "<Figure size 1000x600 with 1 Axes>"
      ]
     },
     "metadata": {},
     "output_type": "display_data"
    }
   ],
   "source": [
    "plt.figure(figsize=(10, 6))\n",
    "agg_data = merged_data.groupby('from_social')['is_target'].mean() * 100\n",
    "sns.barplot(x=agg_data.index, y=agg_data.values)\n",
    "plt.title('Распределение % целевых действий у пользователей из соцсетей и не из соцсетей')\n",
    "plt.xlabel('Источник (из соцсетей или нет)')\n",
    "plt.ylabel('% Целевых действий')\n",
    "plt.show()"
   ]
  },
  {
   "cell_type": "code",
   "execution_count": 44,
   "metadata": {
    "executionInfo": {
     "elapsed": 250,
     "status": "ok",
     "timestamp": 1715705633762,
     "user": {
      "displayName": "Anastasia Gisina",
      "userId": "05227149390310412810"
     },
     "user_tz": -180
    },
    "id": "ZcJP3LppAxXh"
   },
   "outputs": [],
   "source": [
    "merged_data['is_organic'] = merged_data['utm_medium'].isin(organic_utms_medium)\n",
    "merged_data['is_organic'] = merged_data['is_organic'].astype(int)"
   ]
  },
  {
   "cell_type": "code",
   "execution_count": 45,
   "metadata": {
    "colab": {
     "base_uri": "https://localhost:8080/",
     "height": 436
    },
    "executionInfo": {
     "elapsed": 203652,
     "status": "ok",
     "timestamp": 1715706215969,
     "user": {
      "displayName": "Anastasia Gisina",
      "userId": "05227149390310412810"
     },
     "user_tz": -180
    },
    "id": "TPExKG8VBnZC",
    "outputId": "bd1b0f0a-7afc-49e4-8360-40fa4ddb757e"
   },
   "outputs": [
    {
     "data": {
      "image/png": "[encoded data removed]",
      "text/plain": [
       "<Figure size 1000x600 with 1 Axes>"
      ]
     },
     "metadata": {},
     "output_type": "display_data"
    }
   ],
   "source": [
    "plt.figure(figsize=(10, 6))\n",
    "agg_data = merged_data.groupby('is_organic')['is_target'].mean() * 100\n",
    "sns.barplot(x=agg_data.index, y=agg_data.values)\n",
    "plt.title('Распределение % целевых действий у пользователей органики и платных пользователей')\n",
    "plt.xlabel('Источник (органика или нет)')\n",
    "plt.ylabel('% Целевых действий')\n",
    "plt.show()"
   ]
  },
  {
   "cell_type": "code",
   "execution_count": 46,
   "metadata": {
    "colab": {
     "base_uri": "https://localhost:8080/",
     "height": 515
    },
    "executionInfo": {
     "elapsed": 1967,
     "status": "ok",
     "timestamp": 1715705840218,
     "user": {
      "displayName": "Anastasia Gisina",
      "userId": "05227149390310412810"
     },
     "user_tz": -180
    },
    "id": "s08H2KTf-hCR",
    "outputId": "0c6603c1-f232-4b4f-c9db-1f2ee488d0cc"
   },
   "outputs": [
    {
     "data": {
      "image/png": "[encoded data removed]",
      "text/plain": [
       "<Figure size 800x600 with 1 Axes>"
      ]
     },
     "metadata": {},
     "output_type": "display_data"
    }
   ],
   "source": [
    "plt.figure(figsize=(8, 6))\n",
    "sns.countplot(x='is_organic', data=merged_data)\n",
    "plt.title('Распределение количества пользователей из органики и нет')\n",
    "plt.xlabel('Источник (органика или нет)')\n",
    "plt.ylabel('Количество пользователей')\n",
    "plt.show()"
   ]
  },
  {
   "cell_type": "code",
   "execution_count": 47,
   "metadata": {
    "colab": {
     "base_uri": "https://localhost:8080/",
     "height": 528
    },
    "executionInfo": {
     "elapsed": 996,
     "status": "ok",
     "timestamp": 1715706012319,
     "user": {
      "displayName": "Anastasia Gisina",
      "userId": "05227149390310412810"
     },
     "user_tz": -180
    },
    "id": "DUncc93pCCzB",
    "outputId": "532a2fbc-8d70-42a1-f726-590d33e1fe8b"
   },
   "outputs": [
    {
     "data": {
      "image/png": "[encoded data removed]",
      "text/plain": [
       "<Figure size 640x480 with 2 Axes>"
      ]
     },
     "metadata": {},
     "output_type": "display_data"
    }
   ],
   "source": [
    "numerical_cols = merged_data.select_dtypes(include=['int', 'float']).columns\n",
    "corr = merged_data[numerical_cols].corr()\n",
    "sns.heatmap(corr, annot=True, cmap='coolwarm', fmt=\".2f\")\n",
    "plt.title('Тепловая карта корреляции числовых атрибутов')\n",
    "plt.show()"
   ]
  },
  {
   "cell_type": "code",
   "execution_count": 48,
   "metadata": {
    "colab": {
     "base_uri": "https://localhost:8080/"
    },
    "executionInfo": {
     "elapsed": 47,
     "status": "ok",
     "timestamp": 1715706215971,
     "user": {
      "displayName": "Anastasia Gisina",
      "userId": "05227149390310412810"
     },
     "user_tz": -180
    },
    "id": "axQ2-OSnDM6Z",
    "outputId": "c24a2c67-329c-422e-a831-5753ef39495f"
   },
   "outputs": [
    {
     "name": "stdout",
     "output_type": "stream",
     "text": [
      "Процент сессий, завершившихся целевым действием: 2.90%\n"
     ]
    }
   ],
   "source": [
    "total_sessions = merged_data['session_id'].nunique()\n",
    "percentage_target_sessions = (merged_data.loc[merged_data['is_target'] == 1, 'session_id'].nunique() / total_sessions) * 100\n",
    "\n",
    "print(f'Процент сессий, завершившихся целевым действием: {percentage_target_sessions:.2f}%')"
   ]
  },
  {
   "cell_type": "code",
   "execution_count": 49,
   "metadata": {},
   "outputs": [],
   "source": [
    "del corr"
   ]
  },
  {
   "cell_type": "markdown",
   "metadata": {
    "id": "KSK_Gk1uDW79"
   },
   "source": [
    "## Выводы EDA\n",
    "\n",
    "У нас довольно много данных, так как на сайте много пользователь, но всего лишь 2.90% сессий завершились целевым действием, можно учесть это при сплитовании выборок, чтобы улучшить качество модели (но мы так делать пока не будем 😊)\n",
    "\n",
    "Инсайты, которые удалось обнаружить на этапе EDA:\n",
    "- Чем чаще пользователь посещает сайт, тем скорее он совершит целевое действие\n",
    "- Пользователи с органического трафика чаще совершают целевые действия\n",
    "- В первой половине недели чаще происходят целевые действия\n",
    "- Пользователи, пришедшие из социальных сетей, реже совершают целевые действия"
   ]
  },
  {
   "cell_type": "markdown",
   "metadata": {},
   "source": [
    "## Подготовка данных к обучению"
   ]
  },
  {
   "cell_type": "code",
   "execution_count": 50,
   "metadata": {},
   "outputs": [
    {
     "data": {
      "text/html": [
       "<div>\n",
       "<style scoped>\n",
       "    .dataframe tbody tr th:only-of-type {\n",
       "        vertical-align: middle;\n",
       "    }\n",
       "\n",
       "    .dataframe tbody tr th {\n",
       "        vertical-align: top;\n",
       "    }\n",
       "\n",
       "    .dataframe thead th {\n",
       "        text-align: right;\n",
       "    }\n",
       "</style>\n",
       "<table border=\"1\" class=\"dataframe\">\n",
       "  <thead>\n",
       "    <tr style=\"text-align: right;\">\n",
       "      <th></th>\n",
       "      <th>session_id</th>\n",
       "      <th>client_id</th>\n",
       "      <th>visit_date</th>\n",
       "      <th>visit_time</th>\n",
       "      <th>visit_number</th>\n",
       "      <th>utm_source</th>\n",
       "      <th>utm_medium</th>\n",
       "      <th>utm_campaign</th>\n",
       "      <th>utm_adcontent</th>\n",
       "      <th>utm_keyword</th>\n",
       "      <th>...</th>\n",
       "      <th>hit_type</th>\n",
       "      <th>hit_referer</th>\n",
       "      <th>hit_page_path</th>\n",
       "      <th>event_category</th>\n",
       "      <th>event_action</th>\n",
       "      <th>event_label</th>\n",
       "      <th>event_value</th>\n",
       "      <th>from_social</th>\n",
       "      <th>is_target</th>\n",
       "      <th>is_organic</th>\n",
       "    </tr>\n",
       "  </thead>\n",
       "  <tbody>\n",
       "    <tr>\n",
       "      <th>0</th>\n",
       "      <td>767341087831575132.1640188508.1640188508</td>\n",
       "      <td>178660519.1640188508</td>\n",
       "      <td>2021-12-22</td>\n",
       "      <td>18:55:08</td>\n",
       "      <td>1</td>\n",
       "      <td>fDLlAcSmythWSCVMvqvL</td>\n",
       "      <td>(none)</td>\n",
       "      <td>LTuZkdKfxRGVceoWkVyg</td>\n",
       "      <td>JNHcPlZPxEMWDnRiyoBf</td>\n",
       "      <td>puhZPIYqKXeFPaUviSjo</td>\n",
       "      <td>...</td>\n",
       "      <td>event</td>\n",
       "      <td>&lt;NA&gt;</td>\n",
       "      <td>podpiska.sberauto.com/</td>\n",
       "      <td>sub_page_view</td>\n",
       "      <td>sub_landing</td>\n",
       "      <td>&lt;NA&gt;</td>\n",
       "      <td>NaN</td>\n",
       "      <td>0</td>\n",
       "      <td>0</td>\n",
       "      <td>1</td>\n",
       "    </tr>\n",
       "    <tr>\n",
       "      <th>1</th>\n",
       "      <td>7673422167902281677.1634492368.1634492368</td>\n",
       "      <td>1786607822.1634492365</td>\n",
       "      <td>2021-10-17</td>\n",
       "      <td>20:00:00</td>\n",
       "      <td>1</td>\n",
       "      <td>ZpYIoDJMcFzVoPFsHGJL</td>\n",
       "      <td>banner</td>\n",
       "      <td>gecBYcKZCPMcVYdSSzKP</td>\n",
       "      <td>JNHcPlZPxEMWDnRiyoBf</td>\n",
       "      <td>&lt;NA&gt;</td>\n",
       "      <td>...</td>\n",
       "      <td>event</td>\n",
       "      <td>HbolMJUevblAbkHClEQa</td>\n",
       "      <td>podpiska.sberauto.com/</td>\n",
       "      <td>sub_page_view</td>\n",
       "      <td>sub_landing</td>\n",
       "      <td>KclpemfoHstknWHFiLit</td>\n",
       "      <td>NaN</td>\n",
       "      <td>0</td>\n",
       "      <td>0</td>\n",
       "      <td>0</td>\n",
       "    </tr>\n",
       "    <tr>\n",
       "      <th>2</th>\n",
       "      <td>7673422167902281677.1634492368.1634492368</td>\n",
       "      <td>1786607822.1634492365</td>\n",
       "      <td>2021-10-17</td>\n",
       "      <td>20:00:00</td>\n",
       "      <td>1</td>\n",
       "      <td>ZpYIoDJMcFzVoPFsHGJL</td>\n",
       "      <td>banner</td>\n",
       "      <td>gecBYcKZCPMcVYdSSzKP</td>\n",
       "      <td>JNHcPlZPxEMWDnRiyoBf</td>\n",
       "      <td>&lt;NA&gt;</td>\n",
       "      <td>...</td>\n",
       "      <td>event</td>\n",
       "      <td>HbolMJUevblAbkHClEQa</td>\n",
       "      <td>sberauto.com/cars/all/toyota/alphard/2ebe4871?...</td>\n",
       "      <td>card_web</td>\n",
       "      <td>view_card</td>\n",
       "      <td>KclpemfoHstknWHFiLit</td>\n",
       "      <td>NaN</td>\n",
       "      <td>0</td>\n",
       "      <td>0</td>\n",
       "      <td>0</td>\n",
       "    </tr>\n",
       "    <tr>\n",
       "      <th>3</th>\n",
       "      <td>7673422167902281677.1634492368.1634492368</td>\n",
       "      <td>1786607822.1634492365</td>\n",
       "      <td>2021-10-17</td>\n",
       "      <td>20:00:00</td>\n",
       "      <td>1</td>\n",
       "      <td>ZpYIoDJMcFzVoPFsHGJL</td>\n",
       "      <td>banner</td>\n",
       "      <td>gecBYcKZCPMcVYdSSzKP</td>\n",
       "      <td>JNHcPlZPxEMWDnRiyoBf</td>\n",
       "      <td>&lt;NA&gt;</td>\n",
       "      <td>...</td>\n",
       "      <td>event</td>\n",
       "      <td>HbolMJUevblAbkHClEQa</td>\n",
       "      <td>sberauto.com/cars/all/toyota/alphard/2ebe4871?...</td>\n",
       "      <td>card_web</td>\n",
       "      <td>view_new_card</td>\n",
       "      <td>KclpemfoHstknWHFiLit</td>\n",
       "      <td>NaN</td>\n",
       "      <td>0</td>\n",
       "      <td>0</td>\n",
       "      <td>0</td>\n",
       "    </tr>\n",
       "    <tr>\n",
       "      <th>4</th>\n",
       "      <td>7673422167902281677.1634492368.1634492368</td>\n",
       "      <td>1786607822.1634492365</td>\n",
       "      <td>2021-10-17</td>\n",
       "      <td>20:00:00</td>\n",
       "      <td>1</td>\n",
       "      <td>ZpYIoDJMcFzVoPFsHGJL</td>\n",
       "      <td>banner</td>\n",
       "      <td>gecBYcKZCPMcVYdSSzKP</td>\n",
       "      <td>JNHcPlZPxEMWDnRiyoBf</td>\n",
       "      <td>&lt;NA&gt;</td>\n",
       "      <td>...</td>\n",
       "      <td>event</td>\n",
       "      <td>HbolMJUevblAbkHClEQa</td>\n",
       "      <td>sberauto.com/cars/all/toyota/alphard/2ebe4871?...</td>\n",
       "      <td>card_web</td>\n",
       "      <td>view_new_card</td>\n",
       "      <td>KclpemfoHstknWHFiLit</td>\n",
       "      <td>NaN</td>\n",
       "      <td>0</td>\n",
       "      <td>0</td>\n",
       "      <td>0</td>\n",
       "    </tr>\n",
       "  </tbody>\n",
       "</table>\n",
       "<p>5 rows × 31 columns</p>\n",
       "</div>"
      ],
      "text/plain": [
       "                                  session_id              client_id  \\\n",
       "0   767341087831575132.1640188508.1640188508   178660519.1640188508   \n",
       "1  7673422167902281677.1634492368.1634492368  1786607822.1634492365   \n",
       "2  7673422167902281677.1634492368.1634492368  1786607822.1634492365   \n",
       "3  7673422167902281677.1634492368.1634492368  1786607822.1634492365   \n",
       "4  7673422167902281677.1634492368.1634492368  1786607822.1634492365   \n",
       "\n",
       "   visit_date visit_time  visit_number            utm_source utm_medium  \\\n",
       "0  2021-12-22   18:55:08             1  fDLlAcSmythWSCVMvqvL     (none)   \n",
       "1  2021-10-17   20:00:00             1  ZpYIoDJMcFzVoPFsHGJL     banner   \n",
       "2  2021-10-17   20:00:00             1  ZpYIoDJMcFzVoPFsHGJL     banner   \n",
       "3  2021-10-17   20:00:00             1  ZpYIoDJMcFzVoPFsHGJL     banner   \n",
       "4  2021-10-17   20:00:00             1  ZpYIoDJMcFzVoPFsHGJL     banner   \n",
       "\n",
       "           utm_campaign         utm_adcontent           utm_keyword  ...  \\\n",
       "0  LTuZkdKfxRGVceoWkVyg  JNHcPlZPxEMWDnRiyoBf  puhZPIYqKXeFPaUviSjo  ...   \n",
       "1  gecBYcKZCPMcVYdSSzKP  JNHcPlZPxEMWDnRiyoBf                  <NA>  ...   \n",
       "2  gecBYcKZCPMcVYdSSzKP  JNHcPlZPxEMWDnRiyoBf                  <NA>  ...   \n",
       "3  gecBYcKZCPMcVYdSSzKP  JNHcPlZPxEMWDnRiyoBf                  <NA>  ...   \n",
       "4  gecBYcKZCPMcVYdSSzKP  JNHcPlZPxEMWDnRiyoBf                  <NA>  ...   \n",
       "\n",
       "  hit_type           hit_referer  \\\n",
       "0    event                  <NA>   \n",
       "1    event  HbolMJUevblAbkHClEQa   \n",
       "2    event  HbolMJUevblAbkHClEQa   \n",
       "3    event  HbolMJUevblAbkHClEQa   \n",
       "4    event  HbolMJUevblAbkHClEQa   \n",
       "\n",
       "                                       hit_page_path event_category  \\\n",
       "0                             podpiska.sberauto.com/  sub_page_view   \n",
       "1                             podpiska.sberauto.com/  sub_page_view   \n",
       "2  sberauto.com/cars/all/toyota/alphard/2ebe4871?...       card_web   \n",
       "3  sberauto.com/cars/all/toyota/alphard/2ebe4871?...       card_web   \n",
       "4  sberauto.com/cars/all/toyota/alphard/2ebe4871?...       card_web   \n",
       "\n",
       "    event_action           event_label event_value from_social is_target  \\\n",
       "0    sub_landing                  <NA>         NaN           0         0   \n",
       "1    sub_landing  KclpemfoHstknWHFiLit         NaN           0         0   \n",
       "2      view_card  KclpemfoHstknWHFiLit         NaN           0         0   \n",
       "3  view_new_card  KclpemfoHstknWHFiLit         NaN           0         0   \n",
       "4  view_new_card  KclpemfoHstknWHFiLit         NaN           0         0   \n",
       "\n",
       "   is_organic  \n",
       "0           1  \n",
       "1           0  \n",
       "2           0  \n",
       "3           0  \n",
       "4           0  \n",
       "\n",
       "[5 rows x 31 columns]"
      ]
     },
     "execution_count": 50,
     "metadata": {},
     "output_type": "execute_result"
    }
   ],
   "source": [
    "merged_data.head(5)"
   ]
  },
  {
   "cell_type": "code",
   "execution_count": 51,
   "metadata": {},
   "outputs": [],
   "source": [
    "merged_data.drop(['event_value', 'device_model', 'utm_keyword', 'device_os', 'hit_time', \n",
    "            'hit_referer', 'session_id', 'client_id', 'hit_date', 'hit_type', \n",
    "            'visit_number', 'visit_date', 'visit_time', 'hit_number', \n",
    "            'hit_page_path', 'event_category', 'event_label'], axis=1, inplace=True)"
   ]
  },
  {
   "cell_type": "code",
   "execution_count": 52,
   "metadata": {},
   "outputs": [],
   "source": [
    "merged_data = merged_data.drop_duplicates()"
   ]
  },
  {
   "cell_type": "code",
   "execution_count": 53,
   "metadata": {},
   "outputs": [],
   "source": [
    "merged_data.drop(['event_action'], axis=1, inplace=True)"
   ]
  },
  {
   "cell_type": "code",
   "execution_count": 54,
   "metadata": {},
   "outputs": [
    {
     "name": "stdout",
     "output_type": "stream",
     "text": [
      "<class 'pandas.core.frame.DataFrame'>\n",
      "Index: 1905490 entries, 0 to 240313\n",
      "Data columns (total 13 columns):\n",
      " #   Column                    Dtype \n",
      "---  ------                    ----- \n",
      " 0   utm_source                string\n",
      " 1   utm_medium                string\n",
      " 2   utm_campaign              string\n",
      " 3   utm_adcontent             string\n",
      " 4   device_category           string\n",
      " 5   device_brand              string\n",
      " 6   device_screen_resolution  string\n",
      " 7   device_browser            string\n",
      " 8   geo_country               string\n",
      " 9   geo_city                  string\n",
      " 10  from_social               int64 \n",
      " 11  is_target                 int64 \n",
      " 12  is_organic                int64 \n",
      "dtypes: int64(3), string(10)\n",
      "memory usage: 317.5 MB\n"
     ]
    }
   ],
   "source": [
    "merged_data.info()"
   ]
  },
  {
   "cell_type": "code",
   "execution_count": 55,
   "metadata": {},
   "outputs": [],
   "source": [
    "merged_data.to_csv('data/ready_to_learn.csv')"
   ]
  },
  {
   "cell_type": "markdown",
   "metadata": {
    "id": "MEwc5wTAECLd"
   },
   "source": [
    "# Обучение модели"
   ]
  },
  {
   "cell_type": "code",
   "execution_count": 56,
   "metadata": {},
   "outputs": [],
   "source": [
    "from catboost import CatBoostClassifier\n",
    "from sklearn.metrics import RocCurveDisplay\n",
    "from sklearn.model_selection import train_test_split\n",
    "import pickle\n",
    "from sklearn.preprocessing import OneHotEncoder, LabelEncoder\n",
    "import pandas as pd\n",
    "import joblib\n",
    "import numpy as np"
   ]
  },
  {
   "cell_type": "code",
   "execution_count": 57,
   "metadata": {},
   "outputs": [],
   "source": [
    "merged_data = pd.read_csv('data/ready_to_learn.csv', low_memory = False)"
   ]
  },
  {
   "cell_type": "code",
   "execution_count": 58,
   "metadata": {
    "scrolled": true
   },
   "outputs": [
    {
     "data": {
      "text/plain": [
       "Index(['Unnamed: 0', 'utm_source', 'utm_medium', 'utm_campaign',\n",
       "       'utm_adcontent', 'device_category', 'device_brand',\n",
       "       'device_screen_resolution', 'device_browser', 'geo_country', 'geo_city',\n",
       "       'from_social', 'is_target', 'is_organic'],\n",
       "      dtype='object')"
      ]
     },
     "execution_count": 58,
     "metadata": {},
     "output_type": "execute_result"
    }
   ],
   "source": [
    "merged_data.columns"
   ]
  },
  {
   "cell_type": "code",
   "execution_count": 59,
   "metadata": {},
   "outputs": [],
   "source": [
    "categorical_features = ['utm_source', 'utm_medium', 'utm_campaign', 'utm_adcontent',\n",
    "                        'device_category', 'device_brand', 'device_screen_resolution',\n",
    "                        'device_browser', 'geo_country', 'geo_city', 'from_social',\n",
    "                        'is_organic']\n",
    " \n",
    "for feature in categorical_features: \n",
    "    d = {v:i for i,v in enumerate(merged_data[feature].astype('category').cat.categories)} \n",
    "    with open(f'encode/{feature}_encoder.pickle', 'wb') as f: \n",
    "        pickle.dump(d, f)\n",
    "\n",
    "encoded_data = merged_data[categorical_features]"
   ]
  },
  {
   "cell_type": "code",
   "execution_count": 60,
   "metadata": {},
   "outputs": [],
   "source": [
    "for feature in categorical_features:\n",
    "    encoded_data[feature] = encoded_data[feature].astype(\"category\").cat.codes"
   ]
  },
  {
   "cell_type": "code",
   "execution_count": 61,
   "metadata": {},
   "outputs": [],
   "source": [
    "X = encoded_data\n",
    "y = merged_data['is_target']\n",
    "\n",
    "X_train, X_test, y_train, y_test = train_test_split(\n",
    "    X, y, test_size=0.33, random_state=42, stratify=y.values\n",
    ")"
   ]
  },
  {
   "cell_type": "code",
   "execution_count": 62,
   "metadata": {},
   "outputs": [
    {
     "name": "stdout",
     "output_type": "stream",
     "text": [
      "0:\tlearn: 0.6903604\ttotal: 153ms\tremaining: 2m 32s\n",
      "1:\tlearn: 0.6878282\ttotal: 215ms\tremaining: 1m 47s\n",
      "2:\tlearn: 0.6853781\ttotal: 273ms\tremaining: 1m 30s\n",
      "3:\tlearn: 0.6832901\ttotal: 337ms\tremaining: 1m 23s\n",
      "4:\tlearn: 0.6818012\ttotal: 406ms\tremaining: 1m 20s\n",
      "5:\tlearn: 0.6805289\ttotal: 514ms\tremaining: 1m 25s\n",
      "6:\tlearn: 0.6789947\ttotal: 578ms\tremaining: 1m 21s\n",
      "7:\tlearn: 0.6775691\ttotal: 658ms\tremaining: 1m 21s\n",
      "8:\tlearn: 0.6764756\ttotal: 728ms\tremaining: 1m 20s\n",
      "9:\tlearn: 0.6754162\ttotal: 794ms\tremaining: 1m 18s\n",
      "10:\tlearn: 0.6744936\ttotal: 858ms\tremaining: 1m 17s\n",
      "11:\tlearn: 0.6737833\ttotal: 924ms\tremaining: 1m 16s\n",
      "12:\tlearn: 0.6730629\ttotal: 995ms\tremaining: 1m 15s\n",
      "13:\tlearn: 0.6721573\ttotal: 1.05s\tremaining: 1m 14s\n",
      "14:\tlearn: 0.6709400\ttotal: 1.11s\tremaining: 1m 13s\n",
      "15:\tlearn: 0.6704487\ttotal: 1.18s\tremaining: 1m 12s\n",
      "16:\tlearn: 0.6695621\ttotal: 1.23s\tremaining: 1m 11s\n",
      "17:\tlearn: 0.6688919\ttotal: 1.29s\tremaining: 1m 10s\n",
      "18:\tlearn: 0.6681864\ttotal: 1.35s\tremaining: 1m 9s\n",
      "19:\tlearn: 0.6672135\ttotal: 1.41s\tremaining: 1m 9s\n",
      "20:\tlearn: 0.6663071\ttotal: 1.47s\tremaining: 1m 8s\n",
      "21:\tlearn: 0.6655786\ttotal: 1.57s\tremaining: 1m 9s\n",
      "22:\tlearn: 0.6649091\ttotal: 1.65s\tremaining: 1m 10s\n",
      "23:\tlearn: 0.6644093\ttotal: 1.73s\tremaining: 1m 10s\n",
      "24:\tlearn: 0.6637209\ttotal: 1.81s\tremaining: 1m 10s\n",
      "25:\tlearn: 0.6631418\ttotal: 1.88s\tremaining: 1m 10s\n",
      "26:\tlearn: 0.6627297\ttotal: 1.96s\tremaining: 1m 10s\n",
      "27:\tlearn: 0.6621904\ttotal: 2.04s\tremaining: 1m 10s\n",
      "28:\tlearn: 0.6616924\ttotal: 2.1s\tremaining: 1m 10s\n",
      "29:\tlearn: 0.6613801\ttotal: 2.16s\tremaining: 1m 9s\n",
      "30:\tlearn: 0.6608934\ttotal: 2.23s\tremaining: 1m 9s\n",
      "31:\tlearn: 0.6602341\ttotal: 2.31s\tremaining: 1m 9s\n",
      "32:\tlearn: 0.6599101\ttotal: 2.39s\tremaining: 1m 9s\n",
      "33:\tlearn: 0.6595208\ttotal: 2.45s\tremaining: 1m 9s\n",
      "34:\tlearn: 0.6589305\ttotal: 2.52s\tremaining: 1m 9s\n",
      "35:\tlearn: 0.6583628\ttotal: 2.59s\tremaining: 1m 9s\n",
      "36:\tlearn: 0.6579591\ttotal: 2.69s\tremaining: 1m 9s\n",
      "37:\tlearn: 0.6575402\ttotal: 2.76s\tremaining: 1m 9s\n",
      "38:\tlearn: 0.6570857\ttotal: 2.83s\tremaining: 1m 9s\n",
      "39:\tlearn: 0.6568125\ttotal: 2.89s\tremaining: 1m 9s\n",
      "40:\tlearn: 0.6563112\ttotal: 2.95s\tremaining: 1m 8s\n",
      "41:\tlearn: 0.6561145\ttotal: 3.03s\tremaining: 1m 9s\n",
      "42:\tlearn: 0.6558113\ttotal: 3.1s\tremaining: 1m 8s\n",
      "43:\tlearn: 0.6554573\ttotal: 3.16s\tremaining: 1m 8s\n",
      "44:\tlearn: 0.6551239\ttotal: 3.25s\tremaining: 1m 8s\n",
      "45:\tlearn: 0.6547936\ttotal: 3.31s\tremaining: 1m 8s\n",
      "46:\tlearn: 0.6544495\ttotal: 3.38s\tremaining: 1m 8s\n",
      "47:\tlearn: 0.6542302\ttotal: 3.44s\tremaining: 1m 8s\n",
      "48:\tlearn: 0.6538995\ttotal: 3.51s\tremaining: 1m 8s\n",
      "49:\tlearn: 0.6535068\ttotal: 3.57s\tremaining: 1m 7s\n",
      "50:\tlearn: 0.6533447\ttotal: 3.64s\tremaining: 1m 7s\n",
      "51:\tlearn: 0.6529811\ttotal: 3.7s\tremaining: 1m 7s\n",
      "52:\tlearn: 0.6527522\ttotal: 3.77s\tremaining: 1m 7s\n",
      "53:\tlearn: 0.6523303\ttotal: 3.83s\tremaining: 1m 7s\n",
      "54:\tlearn: 0.6519946\ttotal: 3.89s\tremaining: 1m 6s\n",
      "55:\tlearn: 0.6517739\ttotal: 3.94s\tremaining: 1m 6s\n",
      "56:\tlearn: 0.6515081\ttotal: 4.01s\tremaining: 1m 6s\n",
      "57:\tlearn: 0.6512272\ttotal: 4.07s\tremaining: 1m 6s\n",
      "58:\tlearn: 0.6509618\ttotal: 4.13s\tremaining: 1m 5s\n",
      "59:\tlearn: 0.6506821\ttotal: 4.18s\tremaining: 1m 5s\n",
      "60:\tlearn: 0.6504490\ttotal: 4.24s\tremaining: 1m 5s\n",
      "61:\tlearn: 0.6502200\ttotal: 4.3s\tremaining: 1m 5s\n",
      "62:\tlearn: 0.6500352\ttotal: 4.37s\tremaining: 1m 4s\n",
      "63:\tlearn: 0.6498424\ttotal: 4.43s\tremaining: 1m 4s\n",
      "64:\tlearn: 0.6496117\ttotal: 4.49s\tremaining: 1m 4s\n",
      "65:\tlearn: 0.6494130\ttotal: 4.57s\tremaining: 1m 4s\n",
      "66:\tlearn: 0.6491391\ttotal: 4.63s\tremaining: 1m 4s\n",
      "67:\tlearn: 0.6488641\ttotal: 4.69s\tremaining: 1m 4s\n",
      "68:\tlearn: 0.6486894\ttotal: 4.77s\tremaining: 1m 4s\n",
      "69:\tlearn: 0.6483593\ttotal: 4.83s\tremaining: 1m 4s\n",
      "70:\tlearn: 0.6481953\ttotal: 4.9s\tremaining: 1m 4s\n",
      "71:\tlearn: 0.6479406\ttotal: 4.96s\tremaining: 1m 3s\n",
      "72:\tlearn: 0.6478471\ttotal: 5.04s\tremaining: 1m 3s\n",
      "73:\tlearn: 0.6475924\ttotal: 5.09s\tremaining: 1m 3s\n",
      "74:\tlearn: 0.6473548\ttotal: 5.15s\tremaining: 1m 3s\n",
      "75:\tlearn: 0.6470927\ttotal: 5.2s\tremaining: 1m 3s\n",
      "76:\tlearn: 0.6467472\ttotal: 5.27s\tremaining: 1m 3s\n",
      "77:\tlearn: 0.6466064\ttotal: 5.33s\tremaining: 1m 3s\n",
      "78:\tlearn: 0.6464795\ttotal: 5.39s\tremaining: 1m 2s\n",
      "79:\tlearn: 0.6463480\ttotal: 5.47s\tremaining: 1m 2s\n",
      "80:\tlearn: 0.6461304\ttotal: 5.53s\tremaining: 1m 2s\n",
      "81:\tlearn: 0.6459214\ttotal: 5.6s\tremaining: 1m 2s\n",
      "82:\tlearn: 0.6456656\ttotal: 5.66s\tremaining: 1m 2s\n",
      "83:\tlearn: 0.6454564\ttotal: 5.72s\tremaining: 1m 2s\n",
      "84:\tlearn: 0.6452970\ttotal: 5.79s\tremaining: 1m 2s\n",
      "85:\tlearn: 0.6451338\ttotal: 5.86s\tremaining: 1m 2s\n",
      "86:\tlearn: 0.6449760\ttotal: 5.93s\tremaining: 1m 2s\n",
      "87:\tlearn: 0.6447640\ttotal: 5.99s\tremaining: 1m 2s\n",
      "88:\tlearn: 0.6445876\ttotal: 6.05s\tremaining: 1m 1s\n",
      "89:\tlearn: 0.6443987\ttotal: 6.12s\tremaining: 1m 1s\n",
      "90:\tlearn: 0.6442609\ttotal: 6.17s\tremaining: 1m 1s\n",
      "91:\tlearn: 0.6441253\ttotal: 6.23s\tremaining: 1m 1s\n",
      "92:\tlearn: 0.6439363\ttotal: 6.3s\tremaining: 1m 1s\n",
      "93:\tlearn: 0.6438301\ttotal: 6.35s\tremaining: 1m 1s\n",
      "94:\tlearn: 0.6436687\ttotal: 6.41s\tremaining: 1m 1s\n",
      "95:\tlearn: 0.6435148\ttotal: 6.47s\tremaining: 1m\n",
      "96:\tlearn: 0.6433181\ttotal: 6.54s\tremaining: 1m\n",
      "97:\tlearn: 0.6431494\ttotal: 6.59s\tremaining: 1m\n",
      "98:\tlearn: 0.6428953\ttotal: 6.65s\tremaining: 1m\n",
      "99:\tlearn: 0.6426923\ttotal: 6.71s\tremaining: 1m\n",
      "100:\tlearn: 0.6425119\ttotal: 6.77s\tremaining: 1m\n",
      "101:\tlearn: 0.6423690\ttotal: 6.83s\tremaining: 1m\n",
      "102:\tlearn: 0.6422143\ttotal: 6.88s\tremaining: 59.9s\n",
      "103:\tlearn: 0.6420699\ttotal: 6.96s\tremaining: 60s\n",
      "104:\tlearn: 0.6419062\ttotal: 7.03s\tremaining: 59.9s\n",
      "105:\tlearn: 0.6418241\ttotal: 7.09s\tremaining: 59.8s\n",
      "106:\tlearn: 0.6416502\ttotal: 7.15s\tremaining: 59.7s\n",
      "107:\tlearn: 0.6414751\ttotal: 7.23s\tremaining: 59.7s\n",
      "108:\tlearn: 0.6413111\ttotal: 7.31s\tremaining: 59.8s\n",
      "109:\tlearn: 0.6412011\ttotal: 7.39s\tremaining: 59.8s\n",
      "110:\tlearn: 0.6410220\ttotal: 7.45s\tremaining: 59.7s\n",
      "111:\tlearn: 0.6408660\ttotal: 7.52s\tremaining: 59.6s\n",
      "112:\tlearn: 0.6407181\ttotal: 7.58s\tremaining: 59.5s\n",
      "113:\tlearn: 0.6406222\ttotal: 7.64s\tremaining: 59.4s\n",
      "114:\tlearn: 0.6404587\ttotal: 7.7s\tremaining: 59.3s\n",
      "115:\tlearn: 0.6403300\ttotal: 7.77s\tremaining: 59.2s\n",
      "116:\tlearn: 0.6401279\ttotal: 7.83s\tremaining: 59.1s\n",
      "117:\tlearn: 0.6400039\ttotal: 7.9s\tremaining: 59s\n",
      "118:\tlearn: 0.6398807\ttotal: 7.96s\tremaining: 59s\n",
      "119:\tlearn: 0.6397517\ttotal: 8.03s\tremaining: 58.9s\n",
      "120:\tlearn: 0.6396113\ttotal: 8.1s\tremaining: 58.8s\n",
      "121:\tlearn: 0.6395005\ttotal: 8.16s\tremaining: 58.7s\n",
      "122:\tlearn: 0.6392914\ttotal: 8.23s\tremaining: 58.7s\n",
      "123:\tlearn: 0.6391995\ttotal: 8.3s\tremaining: 58.6s\n",
      "124:\tlearn: 0.6390673\ttotal: 8.37s\tremaining: 58.6s\n",
      "125:\tlearn: 0.6389619\ttotal: 8.43s\tremaining: 58.4s\n",
      "126:\tlearn: 0.6388044\ttotal: 8.49s\tremaining: 58.3s\n",
      "127:\tlearn: 0.6386851\ttotal: 8.56s\tremaining: 58.3s\n",
      "128:\tlearn: 0.6386040\ttotal: 8.63s\tremaining: 58.3s\n",
      "129:\tlearn: 0.6384389\ttotal: 8.69s\tremaining: 58.2s\n",
      "130:\tlearn: 0.6382929\ttotal: 8.76s\tremaining: 58.1s\n",
      "131:\tlearn: 0.6381420\ttotal: 8.82s\tremaining: 58s\n",
      "132:\tlearn: 0.6378974\ttotal: 8.88s\tremaining: 57.9s\n",
      "133:\tlearn: 0.6377025\ttotal: 8.95s\tremaining: 57.8s\n",
      "134:\tlearn: 0.6375796\ttotal: 9.01s\tremaining: 57.8s\n",
      "135:\tlearn: 0.6374405\ttotal: 9.08s\tremaining: 57.7s\n",
      "136:\tlearn: 0.6372964\ttotal: 9.14s\tremaining: 57.6s\n",
      "137:\tlearn: 0.6372340\ttotal: 9.21s\tremaining: 57.5s\n",
      "138:\tlearn: 0.6370802\ttotal: 9.27s\tremaining: 57.4s\n",
      "139:\tlearn: 0.6368906\ttotal: 9.33s\tremaining: 57.3s\n",
      "140:\tlearn: 0.6367468\ttotal: 9.39s\tremaining: 57.2s\n",
      "141:\tlearn: 0.6365673\ttotal: 9.47s\tremaining: 57.2s\n",
      "142:\tlearn: 0.6364348\ttotal: 9.54s\tremaining: 57.1s\n",
      "143:\tlearn: 0.6362862\ttotal: 9.6s\tremaining: 57.1s\n",
      "144:\tlearn: 0.6361397\ttotal: 9.67s\tremaining: 57s\n",
      "145:\tlearn: 0.6360142\ttotal: 9.74s\tremaining: 57s\n",
      "146:\tlearn: 0.6358601\ttotal: 9.8s\tremaining: 56.9s\n",
      "147:\tlearn: 0.6357123\ttotal: 9.87s\tremaining: 56.8s\n",
      "148:\tlearn: 0.6355829\ttotal: 9.93s\tremaining: 56.7s\n",
      "149:\tlearn: 0.6353953\ttotal: 9.99s\tremaining: 56.6s\n",
      "150:\tlearn: 0.6352893\ttotal: 10s\tremaining: 56.5s\n",
      "151:\tlearn: 0.6351273\ttotal: 10.1s\tremaining: 56.4s\n",
      "152:\tlearn: 0.6350134\ttotal: 10.2s\tremaining: 56.3s\n",
      "153:\tlearn: 0.6349084\ttotal: 10.2s\tremaining: 56.2s\n",
      "154:\tlearn: 0.6347374\ttotal: 10.3s\tremaining: 56.1s\n",
      "155:\tlearn: 0.6345766\ttotal: 10.3s\tremaining: 56s\n",
      "156:\tlearn: 0.6344462\ttotal: 10.4s\tremaining: 55.9s\n",
      "157:\tlearn: 0.6343250\ttotal: 10.5s\tremaining: 55.8s\n",
      "158:\tlearn: 0.6341299\ttotal: 10.5s\tremaining: 55.7s\n",
      "159:\tlearn: 0.6339886\ttotal: 10.6s\tremaining: 55.6s\n",
      "160:\tlearn: 0.6338780\ttotal: 10.6s\tremaining: 55.4s\n",
      "161:\tlearn: 0.6337733\ttotal: 10.7s\tremaining: 55.3s\n",
      "162:\tlearn: 0.6336539\ttotal: 10.7s\tremaining: 55.2s\n",
      "163:\tlearn: 0.6335288\ttotal: 10.8s\tremaining: 55.1s\n",
      "164:\tlearn: 0.6333691\ttotal: 10.9s\tremaining: 55s\n",
      "165:\tlearn: 0.6332486\ttotal: 10.9s\tremaining: 55s\n",
      "166:\tlearn: 0.6331027\ttotal: 11s\tremaining: 54.8s\n",
      "167:\tlearn: 0.6329750\ttotal: 11.1s\tremaining: 54.8s\n",
      "168:\tlearn: 0.6328348\ttotal: 11.1s\tremaining: 54.7s\n",
      "169:\tlearn: 0.6326806\ttotal: 11.2s\tremaining: 54.5s\n",
      "170:\tlearn: 0.6325117\ttotal: 11.2s\tremaining: 54.4s\n",
      "171:\tlearn: 0.6324076\ttotal: 11.3s\tremaining: 54.4s\n",
      "172:\tlearn: 0.6322967\ttotal: 11.4s\tremaining: 54.3s\n",
      "173:\tlearn: 0.6321478\ttotal: 11.4s\tremaining: 54.2s\n",
      "174:\tlearn: 0.6320027\ttotal: 11.5s\tremaining: 54.1s\n",
      "175:\tlearn: 0.6318732\ttotal: 11.5s\tremaining: 54s\n",
      "176:\tlearn: 0.6317371\ttotal: 11.6s\tremaining: 53.9s\n",
      "177:\tlearn: 0.6316357\ttotal: 11.6s\tremaining: 53.8s\n",
      "178:\tlearn: 0.6314878\ttotal: 11.7s\tremaining: 53.7s\n",
      "179:\tlearn: 0.6313634\ttotal: 11.8s\tremaining: 53.6s\n",
      "180:\tlearn: 0.6311826\ttotal: 11.8s\tremaining: 53.5s\n",
      "181:\tlearn: 0.6310549\ttotal: 11.9s\tremaining: 53.5s\n",
      "182:\tlearn: 0.6308760\ttotal: 12s\tremaining: 53.4s\n",
      "183:\tlearn: 0.6307128\ttotal: 12s\tremaining: 53.3s\n",
      "184:\tlearn: 0.6305732\ttotal: 12.1s\tremaining: 53.3s\n",
      "185:\tlearn: 0.6304363\ttotal: 12.1s\tremaining: 53.2s\n",
      "186:\tlearn: 0.6302888\ttotal: 12.2s\tremaining: 53.1s\n",
      "187:\tlearn: 0.6301864\ttotal: 12.3s\tremaining: 53s\n",
      "188:\tlearn: 0.6300613\ttotal: 12.3s\tremaining: 52.9s\n",
      "189:\tlearn: 0.6298909\ttotal: 12.4s\tremaining: 52.8s\n",
      "190:\tlearn: 0.6297178\ttotal: 12.5s\tremaining: 52.8s\n",
      "191:\tlearn: 0.6296131\ttotal: 12.5s\tremaining: 52.7s\n",
      "192:\tlearn: 0.6294679\ttotal: 12.6s\tremaining: 52.6s\n",
      "193:\tlearn: 0.6293109\ttotal: 12.7s\tremaining: 52.6s\n",
      "194:\tlearn: 0.6292072\ttotal: 12.7s\tremaining: 52.6s\n",
      "195:\tlearn: 0.6290804\ttotal: 12.8s\tremaining: 52.5s\n",
      "196:\tlearn: 0.6289632\ttotal: 12.9s\tremaining: 52.5s\n",
      "197:\tlearn: 0.6288540\ttotal: 12.9s\tremaining: 52.4s\n",
      "198:\tlearn: 0.6287342\ttotal: 13s\tremaining: 52.3s\n",
      "199:\tlearn: 0.6286682\ttotal: 13.1s\tremaining: 52.2s\n",
      "200:\tlearn: 0.6285680\ttotal: 13.1s\tremaining: 52.2s\n",
      "201:\tlearn: 0.6284237\ttotal: 13.2s\tremaining: 52.1s\n",
      "202:\tlearn: 0.6282946\ttotal: 13.3s\tremaining: 52.2s\n",
      "203:\tlearn: 0.6281765\ttotal: 13.4s\tremaining: 52.1s\n",
      "204:\tlearn: 0.6280931\ttotal: 13.4s\tremaining: 52.1s\n",
      "205:\tlearn: 0.6279827\ttotal: 13.5s\tremaining: 52s\n",
      "206:\tlearn: 0.6278533\ttotal: 13.6s\tremaining: 51.9s\n",
      "207:\tlearn: 0.6277344\ttotal: 13.6s\tremaining: 51.9s\n",
      "208:\tlearn: 0.6276462\ttotal: 13.7s\tremaining: 51.8s\n",
      "209:\tlearn: 0.6275046\ttotal: 13.8s\tremaining: 51.8s\n",
      "210:\tlearn: 0.6274308\ttotal: 13.8s\tremaining: 51.7s\n",
      "211:\tlearn: 0.6273466\ttotal: 13.9s\tremaining: 51.6s\n",
      "212:\tlearn: 0.6272603\ttotal: 14s\tremaining: 51.6s\n",
      "213:\tlearn: 0.6271391\ttotal: 14.1s\tremaining: 51.7s\n",
      "214:\tlearn: 0.6270358\ttotal: 14.2s\tremaining: 51.7s\n",
      "215:\tlearn: 0.6268862\ttotal: 14.2s\tremaining: 51.6s\n",
      "216:\tlearn: 0.6267512\ttotal: 14.3s\tremaining: 51.6s\n",
      "217:\tlearn: 0.6265849\ttotal: 14.4s\tremaining: 51.6s\n",
      "218:\tlearn: 0.6264366\ttotal: 14.5s\tremaining: 51.6s\n",
      "219:\tlearn: 0.6263095\ttotal: 14.5s\tremaining: 51.5s\n",
      "220:\tlearn: 0.6262181\ttotal: 14.6s\tremaining: 51.5s\n",
      "221:\tlearn: 0.6261570\ttotal: 14.7s\tremaining: 51.4s\n",
      "222:\tlearn: 0.6260309\ttotal: 14.7s\tremaining: 51.3s\n",
      "223:\tlearn: 0.6259118\ttotal: 14.8s\tremaining: 51.3s\n",
      "224:\tlearn: 0.6258170\ttotal: 14.9s\tremaining: 51.2s\n",
      "225:\tlearn: 0.6257273\ttotal: 15s\tremaining: 51.2s\n",
      "226:\tlearn: 0.6256241\ttotal: 15s\tremaining: 51.2s\n",
      "227:\tlearn: 0.6255354\ttotal: 15.1s\tremaining: 51.1s\n",
      "228:\tlearn: 0.6254437\ttotal: 15.2s\tremaining: 51.1s\n",
      "229:\tlearn: 0.6253213\ttotal: 15.2s\tremaining: 51s\n",
      "230:\tlearn: 0.6252203\ttotal: 15.3s\tremaining: 51s\n",
      "231:\tlearn: 0.6251276\ttotal: 15.4s\tremaining: 50.9s\n",
      "232:\tlearn: 0.6249949\ttotal: 15.4s\tremaining: 50.8s\n",
      "233:\tlearn: 0.6248826\ttotal: 15.5s\tremaining: 50.8s\n",
      "234:\tlearn: 0.6247153\ttotal: 15.6s\tremaining: 50.7s\n",
      "235:\tlearn: 0.6245792\ttotal: 15.7s\tremaining: 50.7s\n",
      "236:\tlearn: 0.6244271\ttotal: 15.7s\tremaining: 50.6s\n",
      "237:\tlearn: 0.6242954\ttotal: 15.8s\tremaining: 50.6s\n",
      "238:\tlearn: 0.6242073\ttotal: 15.9s\tremaining: 50.6s\n",
      "239:\tlearn: 0.6241081\ttotal: 15.9s\tremaining: 50.5s\n",
      "240:\tlearn: 0.6240343\ttotal: 16s\tremaining: 50.4s\n",
      "241:\tlearn: 0.6239372\ttotal: 16.1s\tremaining: 50.4s\n",
      "242:\tlearn: 0.6237752\ttotal: 16.2s\tremaining: 50.3s\n",
      "243:\tlearn: 0.6236726\ttotal: 16.2s\tremaining: 50.2s\n",
      "244:\tlearn: 0.6235957\ttotal: 16.3s\tremaining: 50.2s\n",
      "245:\tlearn: 0.6235194\ttotal: 16.4s\tremaining: 50.1s\n",
      "246:\tlearn: 0.6234352\ttotal: 16.5s\tremaining: 50.3s\n",
      "247:\tlearn: 0.6233437\ttotal: 16.6s\tremaining: 50.3s\n",
      "248:\tlearn: 0.6232450\ttotal: 16.7s\tremaining: 50.2s\n",
      "249:\tlearn: 0.6231458\ttotal: 16.7s\tremaining: 50.2s\n",
      "250:\tlearn: 0.6230123\ttotal: 16.8s\tremaining: 50.1s\n",
      "251:\tlearn: 0.6229358\ttotal: 16.9s\tremaining: 50.1s\n",
      "252:\tlearn: 0.6228420\ttotal: 17s\tremaining: 50.2s\n",
      "253:\tlearn: 0.6227474\ttotal: 17.1s\tremaining: 50.2s\n",
      "254:\tlearn: 0.6226409\ttotal: 17.2s\tremaining: 50.2s\n",
      "255:\tlearn: 0.6223950\ttotal: 17.3s\tremaining: 50.2s\n",
      "256:\tlearn: 0.6222629\ttotal: 17.4s\tremaining: 50.2s\n",
      "257:\tlearn: 0.6221782\ttotal: 17.4s\tremaining: 50.1s\n",
      "258:\tlearn: 0.6220593\ttotal: 17.5s\tremaining: 50s\n",
      "259:\tlearn: 0.6219541\ttotal: 17.6s\tremaining: 50.1s\n",
      "260:\tlearn: 0.6218605\ttotal: 17.7s\tremaining: 50s\n",
      "261:\tlearn: 0.6217646\ttotal: 17.7s\tremaining: 50s\n",
      "262:\tlearn: 0.6216953\ttotal: 17.8s\tremaining: 49.9s\n",
      "263:\tlearn: 0.6215832\ttotal: 17.9s\tremaining: 49.9s\n",
      "264:\tlearn: 0.6214861\ttotal: 18s\tremaining: 49.8s\n",
      "265:\tlearn: 0.6214085\ttotal: 18s\tremaining: 49.7s\n",
      "266:\tlearn: 0.6212867\ttotal: 18.1s\tremaining: 49.7s\n",
      "267:\tlearn: 0.6211315\ttotal: 18.2s\tremaining: 49.6s\n",
      "268:\tlearn: 0.6209447\ttotal: 18.2s\tremaining: 49.5s\n",
      "269:\tlearn: 0.6208707\ttotal: 18.3s\tremaining: 49.5s\n",
      "270:\tlearn: 0.6207351\ttotal: 18.4s\tremaining: 49.4s\n",
      "271:\tlearn: 0.6206105\ttotal: 18.4s\tremaining: 49.4s\n",
      "272:\tlearn: 0.6205067\ttotal: 18.5s\tremaining: 49.3s\n",
      "273:\tlearn: 0.6204249\ttotal: 18.6s\tremaining: 49.3s\n",
      "274:\tlearn: 0.6203201\ttotal: 18.7s\tremaining: 49.2s\n",
      "275:\tlearn: 0.6202045\ttotal: 18.7s\tremaining: 49.1s\n",
      "276:\tlearn: 0.6201005\ttotal: 18.8s\tremaining: 49.1s\n",
      "277:\tlearn: 0.6200359\ttotal: 18.9s\tremaining: 49s\n",
      "278:\tlearn: 0.6199189\ttotal: 18.9s\tremaining: 48.9s\n",
      "279:\tlearn: 0.6198053\ttotal: 19s\tremaining: 48.9s\n",
      "280:\tlearn: 0.6197351\ttotal: 19.1s\tremaining: 48.8s\n",
      "281:\tlearn: 0.6196253\ttotal: 19.1s\tremaining: 48.7s\n",
      "282:\tlearn: 0.6195392\ttotal: 19.2s\tremaining: 48.7s\n",
      "283:\tlearn: 0.6194156\ttotal: 19.3s\tremaining: 48.7s\n",
      "284:\tlearn: 0.6193192\ttotal: 19.4s\tremaining: 48.6s\n",
      "285:\tlearn: 0.6192171\ttotal: 19.4s\tremaining: 48.5s\n",
      "286:\tlearn: 0.6191209\ttotal: 19.5s\tremaining: 48.5s\n",
      "287:\tlearn: 0.6189845\ttotal: 19.6s\tremaining: 48.4s\n",
      "288:\tlearn: 0.6188780\ttotal: 19.7s\tremaining: 48.4s\n",
      "289:\tlearn: 0.6187865\ttotal: 19.7s\tremaining: 48.3s\n",
      "290:\tlearn: 0.6186902\ttotal: 19.8s\tremaining: 48.2s\n",
      "291:\tlearn: 0.6185576\ttotal: 19.9s\tremaining: 48.2s\n",
      "292:\tlearn: 0.6184832\ttotal: 19.9s\tremaining: 48.1s\n",
      "293:\tlearn: 0.6183823\ttotal: 20s\tremaining: 48s\n",
      "294:\tlearn: 0.6183106\ttotal: 20.1s\tremaining: 48s\n",
      "295:\tlearn: 0.6182261\ttotal: 20.1s\tremaining: 47.9s\n",
      "296:\tlearn: 0.6181291\ttotal: 20.2s\tremaining: 47.8s\n",
      "297:\tlearn: 0.6180465\ttotal: 20.3s\tremaining: 47.8s\n",
      "298:\tlearn: 0.6179553\ttotal: 20.4s\tremaining: 47.7s\n",
      "299:\tlearn: 0.6178640\ttotal: 20.4s\tremaining: 47.7s\n",
      "300:\tlearn: 0.6177556\ttotal: 20.5s\tremaining: 47.6s\n",
      "301:\tlearn: 0.6176594\ttotal: 20.6s\tremaining: 47.5s\n",
      "302:\tlearn: 0.6175890\ttotal: 20.6s\tremaining: 47.5s\n",
      "303:\tlearn: 0.6175047\ttotal: 20.7s\tremaining: 47.4s\n",
      "304:\tlearn: 0.6174160\ttotal: 20.8s\tremaining: 47.4s\n",
      "305:\tlearn: 0.6173479\ttotal: 20.9s\tremaining: 47.3s\n",
      "306:\tlearn: 0.6172187\ttotal: 20.9s\tremaining: 47.3s\n",
      "307:\tlearn: 0.6171599\ttotal: 21s\tremaining: 47.2s\n",
      "308:\tlearn: 0.6170855\ttotal: 21.1s\tremaining: 47.2s\n",
      "309:\tlearn: 0.6169663\ttotal: 21.2s\tremaining: 47.1s\n",
      "310:\tlearn: 0.6168918\ttotal: 21.2s\tremaining: 47.1s\n",
      "311:\tlearn: 0.6167898\ttotal: 21.3s\tremaining: 47s\n",
      "312:\tlearn: 0.6167101\ttotal: 21.4s\tremaining: 47s\n",
      "313:\tlearn: 0.6166239\ttotal: 21.5s\tremaining: 46.9s\n",
      "314:\tlearn: 0.6165580\ttotal: 21.6s\tremaining: 46.9s\n",
      "315:\tlearn: 0.6164789\ttotal: 21.6s\tremaining: 46.8s\n",
      "316:\tlearn: 0.6163813\ttotal: 21.7s\tremaining: 46.8s\n",
      "317:\tlearn: 0.6162968\ttotal: 21.8s\tremaining: 46.7s\n",
      "318:\tlearn: 0.6162208\ttotal: 21.9s\tremaining: 46.7s\n",
      "319:\tlearn: 0.6161439\ttotal: 21.9s\tremaining: 46.6s\n",
      "320:\tlearn: 0.6160203\ttotal: 22.1s\tremaining: 46.7s\n",
      "321:\tlearn: 0.6159308\ttotal: 22.2s\tremaining: 46.8s\n",
      "322:\tlearn: 0.6158702\ttotal: 22.3s\tremaining: 46.8s\n",
      "323:\tlearn: 0.6157878\ttotal: 22.4s\tremaining: 46.8s\n",
      "324:\tlearn: 0.6156734\ttotal: 22.6s\tremaining: 46.9s\n",
      "325:\tlearn: 0.6155719\ttotal: 22.7s\tremaining: 46.9s\n",
      "326:\tlearn: 0.6154592\ttotal: 22.8s\tremaining: 46.9s\n",
      "327:\tlearn: 0.6153428\ttotal: 22.9s\tremaining: 46.9s\n",
      "328:\tlearn: 0.6152623\ttotal: 23s\tremaining: 46.9s\n",
      "329:\tlearn: 0.6151899\ttotal: 23.1s\tremaining: 46.9s\n",
      "330:\tlearn: 0.6151302\ttotal: 23.2s\tremaining: 46.8s\n",
      "331:\tlearn: 0.6150386\ttotal: 23.3s\tremaining: 46.8s\n",
      "332:\tlearn: 0.6149589\ttotal: 23.3s\tremaining: 46.8s\n",
      "333:\tlearn: 0.6148822\ttotal: 23.4s\tremaining: 46.7s\n",
      "334:\tlearn: 0.6148405\ttotal: 23.5s\tremaining: 46.7s\n",
      "335:\tlearn: 0.6147710\ttotal: 23.6s\tremaining: 46.7s\n",
      "336:\tlearn: 0.6146662\ttotal: 23.7s\tremaining: 46.7s\n",
      "337:\tlearn: 0.6145425\ttotal: 23.8s\tremaining: 46.6s\n",
      "338:\tlearn: 0.6144829\ttotal: 23.9s\tremaining: 46.5s\n",
      "339:\tlearn: 0.6143794\ttotal: 24s\tremaining: 46.5s\n",
      "340:\tlearn: 0.6142805\ttotal: 24s\tremaining: 46.5s\n",
      "341:\tlearn: 0.6142360\ttotal: 24.1s\tremaining: 46.4s\n",
      "342:\tlearn: 0.6141787\ttotal: 24.2s\tremaining: 46.4s\n",
      "343:\tlearn: 0.6140765\ttotal: 24.3s\tremaining: 46.4s\n",
      "344:\tlearn: 0.6139405\ttotal: 24.4s\tremaining: 46.4s\n",
      "345:\tlearn: 0.6138593\ttotal: 24.5s\tremaining: 46.3s\n",
      "346:\tlearn: 0.6137638\ttotal: 24.6s\tremaining: 46.3s\n",
      "347:\tlearn: 0.6136844\ttotal: 24.7s\tremaining: 46.2s\n",
      "348:\tlearn: 0.6136086\ttotal: 24.8s\tremaining: 46.2s\n",
      "349:\tlearn: 0.6135595\ttotal: 24.9s\tremaining: 46.2s\n",
      "350:\tlearn: 0.6134796\ttotal: 25s\tremaining: 46.3s\n",
      "351:\tlearn: 0.6133707\ttotal: 25.1s\tremaining: 46.3s\n",
      "352:\tlearn: 0.6132503\ttotal: 25.2s\tremaining: 46.2s\n",
      "353:\tlearn: 0.6131405\ttotal: 25.3s\tremaining: 46.2s\n",
      "354:\tlearn: 0.6130773\ttotal: 25.4s\tremaining: 46.2s\n",
      "355:\tlearn: 0.6130077\ttotal: 25.5s\tremaining: 46.1s\n",
      "356:\tlearn: 0.6129187\ttotal: 25.6s\tremaining: 46.1s\n",
      "357:\tlearn: 0.6128038\ttotal: 25.6s\tremaining: 46s\n",
      "358:\tlearn: 0.6127612\ttotal: 25.7s\tremaining: 45.9s\n",
      "359:\tlearn: 0.6126999\ttotal: 25.8s\tremaining: 45.9s\n",
      "360:\tlearn: 0.6126277\ttotal: 25.9s\tremaining: 45.9s\n",
      "361:\tlearn: 0.6125549\ttotal: 26s\tremaining: 45.8s\n",
      "362:\tlearn: 0.6124744\ttotal: 26.1s\tremaining: 45.8s\n",
      "363:\tlearn: 0.6123989\ttotal: 26.2s\tremaining: 45.8s\n",
      "364:\tlearn: 0.6123296\ttotal: 26.3s\tremaining: 45.8s\n",
      "365:\tlearn: 0.6122785\ttotal: 26.4s\tremaining: 45.7s\n",
      "366:\tlearn: 0.6121970\ttotal: 26.5s\tremaining: 45.7s\n",
      "367:\tlearn: 0.6121049\ttotal: 26.6s\tremaining: 45.7s\n",
      "368:\tlearn: 0.6119778\ttotal: 26.7s\tremaining: 45.7s\n",
      "369:\tlearn: 0.6118921\ttotal: 26.8s\tremaining: 45.7s\n",
      "370:\tlearn: 0.6118018\ttotal: 26.9s\tremaining: 45.6s\n",
      "371:\tlearn: 0.6116914\ttotal: 27s\tremaining: 45.6s\n",
      "372:\tlearn: 0.6115671\ttotal: 27.3s\tremaining: 45.9s\n",
      "373:\tlearn: 0.6115034\ttotal: 27.5s\tremaining: 46s\n",
      "374:\tlearn: 0.6114383\ttotal: 27.6s\tremaining: 46s\n",
      "375:\tlearn: 0.6112762\ttotal: 27.7s\tremaining: 46s\n",
      "376:\tlearn: 0.6112215\ttotal: 27.8s\tremaining: 45.9s\n",
      "377:\tlearn: 0.6111645\ttotal: 27.9s\tremaining: 45.9s\n",
      "378:\tlearn: 0.6111045\ttotal: 27.9s\tremaining: 45.8s\n",
      "379:\tlearn: 0.6110035\ttotal: 28s\tremaining: 45.7s\n",
      "380:\tlearn: 0.6109326\ttotal: 28.1s\tremaining: 45.6s\n",
      "381:\tlearn: 0.6108097\ttotal: 28.2s\tremaining: 45.6s\n",
      "382:\tlearn: 0.6107325\ttotal: 28.3s\tremaining: 45.5s\n",
      "383:\tlearn: 0.6106677\ttotal: 28.3s\tremaining: 45.5s\n",
      "384:\tlearn: 0.6106013\ttotal: 28.4s\tremaining: 45.4s\n",
      "385:\tlearn: 0.6105197\ttotal: 28.5s\tremaining: 45.4s\n",
      "386:\tlearn: 0.6104491\ttotal: 28.6s\tremaining: 45.3s\n",
      "387:\tlearn: 0.6103786\ttotal: 28.7s\tremaining: 45.3s\n",
      "388:\tlearn: 0.6102990\ttotal: 28.8s\tremaining: 45.3s\n",
      "389:\tlearn: 0.6101881\ttotal: 28.9s\tremaining: 45.3s\n",
      "390:\tlearn: 0.6100849\ttotal: 29s\tremaining: 45.2s\n",
      "391:\tlearn: 0.6100327\ttotal: 29.1s\tremaining: 45.2s\n",
      "392:\tlearn: 0.6099283\ttotal: 29.2s\tremaining: 45.2s\n",
      "393:\tlearn: 0.6098167\ttotal: 29.3s\tremaining: 45.1s\n",
      "394:\tlearn: 0.6097546\ttotal: 29.5s\tremaining: 45.1s\n",
      "395:\tlearn: 0.6097007\ttotal: 29.5s\tremaining: 45s\n",
      "396:\tlearn: 0.6096415\ttotal: 29.6s\tremaining: 45s\n",
      "397:\tlearn: 0.6095669\ttotal: 29.7s\tremaining: 44.9s\n",
      "398:\tlearn: 0.6095322\ttotal: 29.8s\tremaining: 44.9s\n",
      "399:\tlearn: 0.6094708\ttotal: 30s\tremaining: 45s\n",
      "400:\tlearn: 0.6093829\ttotal: 30.2s\tremaining: 45.1s\n",
      "401:\tlearn: 0.6093305\ttotal: 30.3s\tremaining: 45.1s\n",
      "402:\tlearn: 0.6092454\ttotal: 30.4s\tremaining: 45.1s\n",
      "403:\tlearn: 0.6091807\ttotal: 30.5s\tremaining: 45.1s\n",
      "404:\tlearn: 0.6091158\ttotal: 30.6s\tremaining: 45s\n",
      "405:\tlearn: 0.6090105\ttotal: 30.7s\tremaining: 45s\n",
      "406:\tlearn: 0.6089457\ttotal: 30.8s\tremaining: 44.9s\n",
      "407:\tlearn: 0.6088815\ttotal: 30.9s\tremaining: 44.9s\n",
      "408:\tlearn: 0.6087620\ttotal: 31s\tremaining: 44.9s\n",
      "409:\tlearn: 0.6087171\ttotal: 31.1s\tremaining: 44.8s\n",
      "410:\tlearn: 0.6086287\ttotal: 31.2s\tremaining: 44.8s\n",
      "411:\tlearn: 0.6084794\ttotal: 31.4s\tremaining: 44.8s\n",
      "412:\tlearn: 0.6084193\ttotal: 31.5s\tremaining: 44.7s\n",
      "413:\tlearn: 0.6083687\ttotal: 31.6s\tremaining: 44.7s\n",
      "414:\tlearn: 0.6082885\ttotal: 31.6s\tremaining: 44.6s\n",
      "415:\tlearn: 0.6081871\ttotal: 31.7s\tremaining: 44.5s\n",
      "416:\tlearn: 0.6080897\ttotal: 31.8s\tremaining: 44.5s\n",
      "417:\tlearn: 0.6080361\ttotal: 31.9s\tremaining: 44.4s\n",
      "418:\tlearn: 0.6079383\ttotal: 32s\tremaining: 44.3s\n",
      "419:\tlearn: 0.6078851\ttotal: 32.1s\tremaining: 44.3s\n",
      "420:\tlearn: 0.6078155\ttotal: 32.2s\tremaining: 44.2s\n",
      "421:\tlearn: 0.6077315\ttotal: 32.2s\tremaining: 44.1s\n",
      "422:\tlearn: 0.6076865\ttotal: 32.3s\tremaining: 44.1s\n",
      "423:\tlearn: 0.6076231\ttotal: 32.4s\tremaining: 44.1s\n",
      "424:\tlearn: 0.6075604\ttotal: 32.5s\tremaining: 44s\n",
      "425:\tlearn: 0.6074799\ttotal: 32.6s\tremaining: 43.9s\n",
      "426:\tlearn: 0.6074192\ttotal: 32.7s\tremaining: 43.9s\n",
      "427:\tlearn: 0.6073602\ttotal: 32.8s\tremaining: 43.8s\n",
      "428:\tlearn: 0.6073249\ttotal: 32.9s\tremaining: 43.8s\n",
      "429:\tlearn: 0.6072490\ttotal: 33s\tremaining: 43.7s\n",
      "430:\tlearn: 0.6071566\ttotal: 33.1s\tremaining: 43.6s\n",
      "431:\tlearn: 0.6071013\ttotal: 33.2s\tremaining: 43.6s\n",
      "432:\tlearn: 0.6070446\ttotal: 33.3s\tremaining: 43.6s\n",
      "433:\tlearn: 0.6069718\ttotal: 33.3s\tremaining: 43.5s\n",
      "434:\tlearn: 0.6069130\ttotal: 33.4s\tremaining: 43.4s\n",
      "435:\tlearn: 0.6068284\ttotal: 33.5s\tremaining: 43.4s\n",
      "436:\tlearn: 0.6067366\ttotal: 33.6s\tremaining: 43.3s\n",
      "437:\tlearn: 0.6066536\ttotal: 33.7s\tremaining: 43.3s\n",
      "438:\tlearn: 0.6065705\ttotal: 33.9s\tremaining: 43.3s\n",
      "439:\tlearn: 0.6064906\ttotal: 34s\tremaining: 43.2s\n",
      "440:\tlearn: 0.6064250\ttotal: 34s\tremaining: 43.2s\n",
      "441:\tlearn: 0.6063924\ttotal: 34.2s\tremaining: 43.1s\n",
      "442:\tlearn: 0.6063281\ttotal: 34.3s\tremaining: 43.1s\n",
      "443:\tlearn: 0.6062290\ttotal: 34.4s\tremaining: 43.1s\n",
      "444:\tlearn: 0.6061530\ttotal: 34.5s\tremaining: 43s\n",
      "445:\tlearn: 0.6060974\ttotal: 34.6s\tremaining: 43s\n",
      "446:\tlearn: 0.6060446\ttotal: 34.7s\tremaining: 42.9s\n",
      "447:\tlearn: 0.6059821\ttotal: 34.8s\tremaining: 42.9s\n",
      "448:\tlearn: 0.6059238\ttotal: 34.9s\tremaining: 42.8s\n",
      "449:\tlearn: 0.6058269\ttotal: 35s\tremaining: 42.7s\n",
      "450:\tlearn: 0.6057290\ttotal: 35s\tremaining: 42.6s\n",
      "451:\tlearn: 0.6056600\ttotal: 35.1s\tremaining: 42.6s\n",
      "452:\tlearn: 0.6055907\ttotal: 35.2s\tremaining: 42.5s\n",
      "453:\tlearn: 0.6054023\ttotal: 35.3s\tremaining: 42.4s\n",
      "454:\tlearn: 0.6053053\ttotal: 35.4s\tremaining: 42.4s\n",
      "455:\tlearn: 0.6052305\ttotal: 35.4s\tremaining: 42.3s\n",
      "456:\tlearn: 0.6051300\ttotal: 35.5s\tremaining: 42.2s\n",
      "457:\tlearn: 0.6050798\ttotal: 35.6s\tremaining: 42.1s\n",
      "458:\tlearn: 0.6050164\ttotal: 35.7s\tremaining: 42.1s\n",
      "459:\tlearn: 0.6049424\ttotal: 35.8s\tremaining: 42s\n",
      "460:\tlearn: 0.6048367\ttotal: 35.8s\tremaining: 41.9s\n",
      "461:\tlearn: 0.6047692\ttotal: 35.9s\tremaining: 41.8s\n",
      "462:\tlearn: 0.6047417\ttotal: 36s\tremaining: 41.7s\n",
      "463:\tlearn: 0.6046705\ttotal: 36.1s\tremaining: 41.7s\n",
      "464:\tlearn: 0.6045813\ttotal: 36.1s\tremaining: 41.6s\n",
      "465:\tlearn: 0.6045081\ttotal: 36.2s\tremaining: 41.5s\n",
      "466:\tlearn: 0.6044032\ttotal: 36.3s\tremaining: 41.4s\n",
      "467:\tlearn: 0.6043128\ttotal: 36.3s\tremaining: 41.3s\n",
      "468:\tlearn: 0.6042319\ttotal: 36.4s\tremaining: 41.2s\n",
      "469:\tlearn: 0.6041688\ttotal: 36.4s\tremaining: 41.1s\n",
      "470:\tlearn: 0.6040760\ttotal: 36.5s\tremaining: 41s\n",
      "471:\tlearn: 0.6040113\ttotal: 36.6s\tremaining: 40.9s\n",
      "472:\tlearn: 0.6039161\ttotal: 36.6s\tremaining: 40.8s\n",
      "473:\tlearn: 0.6038507\ttotal: 36.7s\tremaining: 40.7s\n",
      "474:\tlearn: 0.6037612\ttotal: 36.8s\tremaining: 40.7s\n",
      "475:\tlearn: 0.6036732\ttotal: 36.9s\tremaining: 40.6s\n",
      "476:\tlearn: 0.6036223\ttotal: 36.9s\tremaining: 40.5s\n",
      "477:\tlearn: 0.6035601\ttotal: 37s\tremaining: 40.4s\n",
      "478:\tlearn: 0.6034867\ttotal: 37.1s\tremaining: 40.3s\n",
      "479:\tlearn: 0.6034419\ttotal: 37.1s\tremaining: 40.2s\n",
      "480:\tlearn: 0.6033621\ttotal: 37.2s\tremaining: 40.1s\n",
      "481:\tlearn: 0.6032539\ttotal: 37.3s\tremaining: 40.1s\n",
      "482:\tlearn: 0.6031815\ttotal: 37.3s\tremaining: 40s\n",
      "483:\tlearn: 0.6031109\ttotal: 37.4s\tremaining: 39.9s\n",
      "484:\tlearn: 0.6030271\ttotal: 37.5s\tremaining: 39.8s\n",
      "485:\tlearn: 0.6029484\ttotal: 37.5s\tremaining: 39.7s\n",
      "486:\tlearn: 0.6028705\ttotal: 37.6s\tremaining: 39.6s\n",
      "487:\tlearn: 0.6028234\ttotal: 37.6s\tremaining: 39.5s\n",
      "488:\tlearn: 0.6027656\ttotal: 37.7s\tremaining: 39.4s\n",
      "489:\tlearn: 0.6026936\ttotal: 37.8s\tremaining: 39.3s\n",
      "490:\tlearn: 0.6026258\ttotal: 37.8s\tremaining: 39.2s\n",
      "491:\tlearn: 0.6025666\ttotal: 37.9s\tremaining: 39.1s\n",
      "492:\tlearn: 0.6024724\ttotal: 38s\tremaining: 39.1s\n",
      "493:\tlearn: 0.6023711\ttotal: 38.1s\tremaining: 39s\n",
      "494:\tlearn: 0.6023056\ttotal: 38.2s\tremaining: 38.9s\n",
      "495:\tlearn: 0.6022382\ttotal: 38.2s\tremaining: 38.8s\n",
      "496:\tlearn: 0.6021600\ttotal: 38.3s\tremaining: 38.8s\n",
      "497:\tlearn: 0.6020957\ttotal: 38.4s\tremaining: 38.7s\n",
      "498:\tlearn: 0.6020119\ttotal: 38.5s\tremaining: 38.6s\n",
      "499:\tlearn: 0.6018866\ttotal: 38.5s\tremaining: 38.5s\n",
      "500:\tlearn: 0.6018205\ttotal: 38.7s\tremaining: 38.5s\n",
      "501:\tlearn: 0.6017402\ttotal: 38.8s\tremaining: 38.5s\n",
      "502:\tlearn: 0.6016597\ttotal: 38.8s\tremaining: 38.4s\n",
      "503:\tlearn: 0.6015968\ttotal: 38.9s\tremaining: 38.3s\n",
      "504:\tlearn: 0.6015000\ttotal: 39s\tremaining: 38.2s\n",
      "505:\tlearn: 0.6014195\ttotal: 39s\tremaining: 38.1s\n",
      "506:\tlearn: 0.6013386\ttotal: 39.1s\tremaining: 38s\n",
      "507:\tlearn: 0.6012403\ttotal: 39.2s\tremaining: 37.9s\n",
      "508:\tlearn: 0.6011898\ttotal: 39.2s\tremaining: 37.8s\n",
      "509:\tlearn: 0.6011328\ttotal: 39.3s\tremaining: 37.8s\n",
      "510:\tlearn: 0.6010565\ttotal: 39.4s\tremaining: 37.7s\n",
      "511:\tlearn: 0.6010029\ttotal: 39.4s\tremaining: 37.6s\n",
      "512:\tlearn: 0.6009434\ttotal: 39.5s\tremaining: 37.5s\n",
      "513:\tlearn: 0.6008824\ttotal: 39.5s\tremaining: 37.4s\n",
      "514:\tlearn: 0.6007764\ttotal: 39.6s\tremaining: 37.3s\n",
      "515:\tlearn: 0.6006659\ttotal: 39.7s\tremaining: 37.2s\n",
      "516:\tlearn: 0.6006151\ttotal: 39.7s\tremaining: 37.1s\n",
      "517:\tlearn: 0.6005448\ttotal: 39.8s\tremaining: 37s\n",
      "518:\tlearn: 0.6004408\ttotal: 39.9s\tremaining: 37s\n",
      "519:\tlearn: 0.6003597\ttotal: 40s\tremaining: 36.9s\n",
      "520:\tlearn: 0.6002840\ttotal: 40s\tremaining: 36.8s\n",
      "521:\tlearn: 0.6002353\ttotal: 40.1s\tremaining: 36.7s\n",
      "522:\tlearn: 0.6001725\ttotal: 40.2s\tremaining: 36.6s\n",
      "523:\tlearn: 0.6001099\ttotal: 40.2s\tremaining: 36.5s\n",
      "524:\tlearn: 0.6000287\ttotal: 40.3s\tremaining: 36.4s\n",
      "525:\tlearn: 0.5999627\ttotal: 40.3s\tremaining: 36.4s\n",
      "526:\tlearn: 0.5998935\ttotal: 40.4s\tremaining: 36.3s\n",
      "527:\tlearn: 0.5998393\ttotal: 40.5s\tremaining: 36.2s\n",
      "528:\tlearn: 0.5997640\ttotal: 40.5s\tremaining: 36.1s\n",
      "529:\tlearn: 0.5997125\ttotal: 40.6s\tremaining: 36s\n",
      "530:\tlearn: 0.5996456\ttotal: 40.6s\tremaining: 35.9s\n",
      "531:\tlearn: 0.5995276\ttotal: 40.7s\tremaining: 35.8s\n",
      "532:\tlearn: 0.5994744\ttotal: 40.8s\tremaining: 35.7s\n",
      "533:\tlearn: 0.5994249\ttotal: 40.8s\tremaining: 35.6s\n",
      "534:\tlearn: 0.5993505\ttotal: 40.9s\tremaining: 35.5s\n",
      "535:\tlearn: 0.5992286\ttotal: 40.9s\tremaining: 35.4s\n",
      "536:\tlearn: 0.5991367\ttotal: 41s\tremaining: 35.3s\n",
      "537:\tlearn: 0.5990562\ttotal: 41s\tremaining: 35.3s\n",
      "538:\tlearn: 0.5989962\ttotal: 41.1s\tremaining: 35.2s\n",
      "539:\tlearn: 0.5989371\ttotal: 41.2s\tremaining: 35.1s\n",
      "540:\tlearn: 0.5988511\ttotal: 41.2s\tremaining: 35s\n",
      "541:\tlearn: 0.5987778\ttotal: 41.3s\tremaining: 34.9s\n",
      "542:\tlearn: 0.5987211\ttotal: 41.4s\tremaining: 34.8s\n",
      "543:\tlearn: 0.5986449\ttotal: 41.4s\tremaining: 34.7s\n",
      "544:\tlearn: 0.5985799\ttotal: 41.5s\tremaining: 34.6s\n",
      "545:\tlearn: 0.5984623\ttotal: 41.5s\tremaining: 34.5s\n",
      "546:\tlearn: 0.5983979\ttotal: 41.6s\tremaining: 34.5s\n",
      "547:\tlearn: 0.5982934\ttotal: 41.7s\tremaining: 34.4s\n",
      "548:\tlearn: 0.5982115\ttotal: 41.7s\tremaining: 34.3s\n",
      "549:\tlearn: 0.5981542\ttotal: 41.8s\tremaining: 34.2s\n",
      "550:\tlearn: 0.5980606\ttotal: 41.9s\tremaining: 34.1s\n",
      "551:\tlearn: 0.5979809\ttotal: 41.9s\tremaining: 34s\n",
      "552:\tlearn: 0.5978829\ttotal: 42s\tremaining: 33.9s\n",
      "553:\tlearn: 0.5978393\ttotal: 42.1s\tremaining: 33.9s\n",
      "554:\tlearn: 0.5977940\ttotal: 42.2s\tremaining: 33.8s\n",
      "555:\tlearn: 0.5977139\ttotal: 42.3s\tremaining: 33.8s\n",
      "556:\tlearn: 0.5976581\ttotal: 42.4s\tremaining: 33.7s\n",
      "557:\tlearn: 0.5976007\ttotal: 42.5s\tremaining: 33.6s\n",
      "558:\tlearn: 0.5975057\ttotal: 42.6s\tremaining: 33.6s\n",
      "559:\tlearn: 0.5974374\ttotal: 42.7s\tremaining: 33.5s\n",
      "560:\tlearn: 0.5973642\ttotal: 42.7s\tremaining: 33.4s\n",
      "561:\tlearn: 0.5972554\ttotal: 42.8s\tremaining: 33.4s\n",
      "562:\tlearn: 0.5971821\ttotal: 42.9s\tremaining: 33.3s\n",
      "563:\tlearn: 0.5971061\ttotal: 42.9s\tremaining: 33.2s\n",
      "564:\tlearn: 0.5970418\ttotal: 43s\tremaining: 33.1s\n",
      "565:\tlearn: 0.5969329\ttotal: 43s\tremaining: 33s\n",
      "566:\tlearn: 0.5968697\ttotal: 43.1s\tremaining: 32.9s\n",
      "567:\tlearn: 0.5967885\ttotal: 43.2s\tremaining: 32.8s\n",
      "568:\tlearn: 0.5967427\ttotal: 43.2s\tremaining: 32.7s\n",
      "569:\tlearn: 0.5966781\ttotal: 43.3s\tremaining: 32.7s\n",
      "570:\tlearn: 0.5966244\ttotal: 43.3s\tremaining: 32.6s\n",
      "571:\tlearn: 0.5965771\ttotal: 43.4s\tremaining: 32.5s\n",
      "572:\tlearn: 0.5964605\ttotal: 43.5s\tremaining: 32.4s\n",
      "573:\tlearn: 0.5963838\ttotal: 43.5s\tremaining: 32.3s\n",
      "574:\tlearn: 0.5963350\ttotal: 43.6s\tremaining: 32.2s\n",
      "575:\tlearn: 0.5962492\ttotal: 43.7s\tremaining: 32.1s\n",
      "576:\tlearn: 0.5962086\ttotal: 43.7s\tremaining: 32.1s\n",
      "577:\tlearn: 0.5961500\ttotal: 43.8s\tremaining: 32s\n",
      "578:\tlearn: 0.5960808\ttotal: 43.8s\tremaining: 31.9s\n",
      "579:\tlearn: 0.5960254\ttotal: 43.9s\tremaining: 31.8s\n",
      "580:\tlearn: 0.5959645\ttotal: 44s\tremaining: 31.7s\n",
      "581:\tlearn: 0.5958999\ttotal: 44s\tremaining: 31.6s\n",
      "582:\tlearn: 0.5958523\ttotal: 44.1s\tremaining: 31.5s\n",
      "583:\tlearn: 0.5957914\ttotal: 44.1s\tremaining: 31.4s\n",
      "584:\tlearn: 0.5957457\ttotal: 44.2s\tremaining: 31.4s\n",
      "585:\tlearn: 0.5956873\ttotal: 44.3s\tremaining: 31.3s\n",
      "586:\tlearn: 0.5956065\ttotal: 44.3s\tremaining: 31.2s\n",
      "587:\tlearn: 0.5955375\ttotal: 44.4s\tremaining: 31.1s\n",
      "588:\tlearn: 0.5954729\ttotal: 44.4s\tremaining: 31s\n",
      "589:\tlearn: 0.5954264\ttotal: 44.5s\tremaining: 30.9s\n",
      "590:\tlearn: 0.5953873\ttotal: 44.6s\tremaining: 30.8s\n",
      "591:\tlearn: 0.5953108\ttotal: 44.6s\tremaining: 30.8s\n",
      "592:\tlearn: 0.5952666\ttotal: 44.7s\tremaining: 30.7s\n",
      "593:\tlearn: 0.5951963\ttotal: 44.8s\tremaining: 30.6s\n",
      "594:\tlearn: 0.5951496\ttotal: 44.8s\tremaining: 30.5s\n",
      "595:\tlearn: 0.5950587\ttotal: 44.9s\tremaining: 30.4s\n",
      "596:\tlearn: 0.5949926\ttotal: 45s\tremaining: 30.4s\n",
      "597:\tlearn: 0.5949262\ttotal: 45s\tremaining: 30.3s\n",
      "598:\tlearn: 0.5948784\ttotal: 45.1s\tremaining: 30.2s\n",
      "599:\tlearn: 0.5948302\ttotal: 45.1s\tremaining: 30.1s\n",
      "600:\tlearn: 0.5947685\ttotal: 45.2s\tremaining: 30s\n",
      "601:\tlearn: 0.5946894\ttotal: 45.3s\tremaining: 29.9s\n",
      "602:\tlearn: 0.5946464\ttotal: 45.3s\tremaining: 29.8s\n",
      "603:\tlearn: 0.5945847\ttotal: 45.4s\tremaining: 29.8s\n",
      "604:\tlearn: 0.5945037\ttotal: 45.5s\tremaining: 29.7s\n",
      "605:\tlearn: 0.5944270\ttotal: 45.6s\tremaining: 29.7s\n",
      "606:\tlearn: 0.5943694\ttotal: 45.7s\tremaining: 29.6s\n",
      "607:\tlearn: 0.5943084\ttotal: 45.8s\tremaining: 29.5s\n",
      "608:\tlearn: 0.5942688\ttotal: 45.9s\tremaining: 29.5s\n",
      "609:\tlearn: 0.5942137\ttotal: 46s\tremaining: 29.4s\n",
      "610:\tlearn: 0.5941699\ttotal: 46.1s\tremaining: 29.3s\n",
      "611:\tlearn: 0.5940915\ttotal: 46.2s\tremaining: 29.3s\n",
      "612:\tlearn: 0.5940181\ttotal: 46.3s\tremaining: 29.2s\n",
      "613:\tlearn: 0.5939347\ttotal: 46.4s\tremaining: 29.2s\n",
      "614:\tlearn: 0.5938935\ttotal: 46.5s\tremaining: 29.1s\n",
      "615:\tlearn: 0.5938121\ttotal: 46.5s\tremaining: 29s\n",
      "616:\tlearn: 0.5937450\ttotal: 46.8s\tremaining: 29s\n",
      "617:\tlearn: 0.5936889\ttotal: 46.8s\tremaining: 29s\n",
      "618:\tlearn: 0.5936135\ttotal: 46.9s\tremaining: 28.9s\n",
      "619:\tlearn: 0.5935484\ttotal: 47s\tremaining: 28.8s\n",
      "620:\tlearn: 0.5934592\ttotal: 47.1s\tremaining: 28.7s\n",
      "621:\tlearn: 0.5933986\ttotal: 47.1s\tremaining: 28.7s\n",
      "622:\tlearn: 0.5933270\ttotal: 47.2s\tremaining: 28.6s\n",
      "623:\tlearn: 0.5932593\ttotal: 47.3s\tremaining: 28.5s\n",
      "624:\tlearn: 0.5932104\ttotal: 47.3s\tremaining: 28.4s\n",
      "625:\tlearn: 0.5931590\ttotal: 47.4s\tremaining: 28.3s\n",
      "626:\tlearn: 0.5931043\ttotal: 47.5s\tremaining: 28.2s\n",
      "627:\tlearn: 0.5930470\ttotal: 47.5s\tremaining: 28.2s\n",
      "628:\tlearn: 0.5930188\ttotal: 47.6s\tremaining: 28.1s\n",
      "629:\tlearn: 0.5929575\ttotal: 47.7s\tremaining: 28s\n",
      "630:\tlearn: 0.5928925\ttotal: 47.7s\tremaining: 27.9s\n",
      "631:\tlearn: 0.5928188\ttotal: 47.8s\tremaining: 27.8s\n",
      "632:\tlearn: 0.5927675\ttotal: 47.9s\tremaining: 27.7s\n",
      "633:\tlearn: 0.5927109\ttotal: 47.9s\tremaining: 27.7s\n",
      "634:\tlearn: 0.5926518\ttotal: 48s\tremaining: 27.6s\n",
      "635:\tlearn: 0.5925943\ttotal: 48.1s\tremaining: 27.5s\n",
      "636:\tlearn: 0.5925500\ttotal: 48.1s\tremaining: 27.4s\n",
      "637:\tlearn: 0.5924695\ttotal: 48.2s\tremaining: 27.3s\n",
      "638:\tlearn: 0.5924232\ttotal: 48.3s\tremaining: 27.3s\n",
      "639:\tlearn: 0.5923813\ttotal: 48.3s\tremaining: 27.2s\n",
      "640:\tlearn: 0.5923379\ttotal: 48.4s\tremaining: 27.1s\n",
      "641:\tlearn: 0.5922576\ttotal: 48.5s\tremaining: 27s\n",
      "642:\tlearn: 0.5922115\ttotal: 48.5s\tremaining: 26.9s\n",
      "643:\tlearn: 0.5921527\ttotal: 48.6s\tremaining: 26.9s\n",
      "644:\tlearn: 0.5920890\ttotal: 48.6s\tremaining: 26.8s\n",
      "645:\tlearn: 0.5920348\ttotal: 48.7s\tremaining: 26.7s\n",
      "646:\tlearn: 0.5919779\ttotal: 48.8s\tremaining: 26.6s\n",
      "647:\tlearn: 0.5918994\ttotal: 48.9s\tremaining: 26.5s\n",
      "648:\tlearn: 0.5918677\ttotal: 48.9s\tremaining: 26.5s\n",
      "649:\tlearn: 0.5918160\ttotal: 49s\tremaining: 26.4s\n",
      "650:\tlearn: 0.5917941\ttotal: 49.1s\tremaining: 26.3s\n",
      "651:\tlearn: 0.5917474\ttotal: 49.2s\tremaining: 26.2s\n",
      "652:\tlearn: 0.5916927\ttotal: 49.3s\tremaining: 26.2s\n",
      "653:\tlearn: 0.5916416\ttotal: 49.3s\tremaining: 26.1s\n",
      "654:\tlearn: 0.5916024\ttotal: 49.5s\tremaining: 26.1s\n",
      "655:\tlearn: 0.5915250\ttotal: 49.7s\tremaining: 26.1s\n",
      "656:\tlearn: 0.5914618\ttotal: 49.8s\tremaining: 26s\n",
      "657:\tlearn: 0.5914029\ttotal: 49.9s\tremaining: 25.9s\n",
      "658:\tlearn: 0.5913194\ttotal: 50s\tremaining: 25.9s\n",
      "659:\tlearn: 0.5912747\ttotal: 50.1s\tremaining: 25.8s\n",
      "660:\tlearn: 0.5912192\ttotal: 50.2s\tremaining: 25.7s\n",
      "661:\tlearn: 0.5911271\ttotal: 50.3s\tremaining: 25.7s\n",
      "662:\tlearn: 0.5910586\ttotal: 50.4s\tremaining: 25.6s\n",
      "663:\tlearn: 0.5910037\ttotal: 50.6s\tremaining: 25.6s\n",
      "664:\tlearn: 0.5909372\ttotal: 50.7s\tremaining: 25.5s\n",
      "665:\tlearn: 0.5908675\ttotal: 50.7s\tremaining: 25.4s\n",
      "666:\tlearn: 0.5908021\ttotal: 50.8s\tremaining: 25.4s\n",
      "667:\tlearn: 0.5907645\ttotal: 50.9s\tremaining: 25.3s\n",
      "668:\tlearn: 0.5906670\ttotal: 51s\tremaining: 25.2s\n",
      "669:\tlearn: 0.5906177\ttotal: 51.2s\tremaining: 25.2s\n",
      "670:\tlearn: 0.5905945\ttotal: 51.3s\tremaining: 25.1s\n",
      "671:\tlearn: 0.5905222\ttotal: 51.4s\tremaining: 25.1s\n",
      "672:\tlearn: 0.5904937\ttotal: 51.5s\tremaining: 25s\n",
      "673:\tlearn: 0.5904272\ttotal: 51.6s\tremaining: 25s\n",
      "674:\tlearn: 0.5903349\ttotal: 51.7s\tremaining: 24.9s\n",
      "675:\tlearn: 0.5902638\ttotal: 51.8s\tremaining: 24.8s\n",
      "676:\tlearn: 0.5901874\ttotal: 51.9s\tremaining: 24.7s\n",
      "677:\tlearn: 0.5901356\ttotal: 51.9s\tremaining: 24.7s\n",
      "678:\tlearn: 0.5900687\ttotal: 52s\tremaining: 24.6s\n",
      "679:\tlearn: 0.5900378\ttotal: 52.1s\tremaining: 24.5s\n",
      "680:\tlearn: 0.5899908\ttotal: 52.2s\tremaining: 24.5s\n",
      "681:\tlearn: 0.5899193\ttotal: 52.3s\tremaining: 24.4s\n",
      "682:\tlearn: 0.5898498\ttotal: 52.4s\tremaining: 24.3s\n",
      "683:\tlearn: 0.5898086\ttotal: 52.5s\tremaining: 24.2s\n",
      "684:\tlearn: 0.5897419\ttotal: 52.6s\tremaining: 24.2s\n",
      "685:\tlearn: 0.5896709\ttotal: 52.6s\tremaining: 24.1s\n",
      "686:\tlearn: 0.5896331\ttotal: 52.7s\tremaining: 24s\n",
      "687:\tlearn: 0.5895842\ttotal: 52.8s\tremaining: 23.9s\n",
      "688:\tlearn: 0.5895287\ttotal: 52.9s\tremaining: 23.9s\n",
      "689:\tlearn: 0.5894880\ttotal: 52.9s\tremaining: 23.8s\n",
      "690:\tlearn: 0.5894298\ttotal: 53s\tremaining: 23.7s\n",
      "691:\tlearn: 0.5893640\ttotal: 53.1s\tremaining: 23.6s\n",
      "692:\tlearn: 0.5893247\ttotal: 53.1s\tremaining: 23.5s\n",
      "693:\tlearn: 0.5892883\ttotal: 53.2s\tremaining: 23.5s\n",
      "694:\tlearn: 0.5892184\ttotal: 53.3s\tremaining: 23.4s\n",
      "695:\tlearn: 0.5891578\ttotal: 53.3s\tremaining: 23.3s\n",
      "696:\tlearn: 0.5890671\ttotal: 53.4s\tremaining: 23.2s\n",
      "697:\tlearn: 0.5889912\ttotal: 53.5s\tremaining: 23.1s\n",
      "698:\tlearn: 0.5889297\ttotal: 53.5s\tremaining: 23s\n",
      "699:\tlearn: 0.5888402\ttotal: 53.6s\tremaining: 23s\n",
      "700:\tlearn: 0.5887398\ttotal: 53.7s\tremaining: 22.9s\n",
      "701:\tlearn: 0.5886787\ttotal: 53.7s\tremaining: 22.8s\n",
      "702:\tlearn: 0.5886119\ttotal: 53.8s\tremaining: 22.7s\n",
      "703:\tlearn: 0.5885385\ttotal: 53.8s\tremaining: 22.6s\n",
      "704:\tlearn: 0.5884900\ttotal: 53.9s\tremaining: 22.6s\n",
      "705:\tlearn: 0.5884425\ttotal: 54s\tremaining: 22.5s\n",
      "706:\tlearn: 0.5883438\ttotal: 54s\tremaining: 22.4s\n",
      "707:\tlearn: 0.5882764\ttotal: 54.1s\tremaining: 22.3s\n",
      "708:\tlearn: 0.5882375\ttotal: 54.1s\tremaining: 22.2s\n",
      "709:\tlearn: 0.5881665\ttotal: 54.2s\tremaining: 22.1s\n",
      "710:\tlearn: 0.5880786\ttotal: 54.3s\tremaining: 22.1s\n",
      "711:\tlearn: 0.5879927\ttotal: 54.3s\tremaining: 22s\n",
      "712:\tlearn: 0.5879339\ttotal: 54.4s\tremaining: 21.9s\n",
      "713:\tlearn: 0.5878919\ttotal: 54.5s\tremaining: 21.8s\n",
      "714:\tlearn: 0.5878465\ttotal: 54.5s\tremaining: 21.7s\n",
      "715:\tlearn: 0.5877926\ttotal: 54.6s\tremaining: 21.7s\n",
      "716:\tlearn: 0.5877432\ttotal: 54.6s\tremaining: 21.6s\n",
      "717:\tlearn: 0.5876700\ttotal: 54.7s\tremaining: 21.5s\n",
      "718:\tlearn: 0.5876081\ttotal: 54.8s\tremaining: 21.4s\n",
      "719:\tlearn: 0.5875433\ttotal: 54.9s\tremaining: 21.3s\n",
      "720:\tlearn: 0.5874700\ttotal: 55s\tremaining: 21.3s\n",
      "721:\tlearn: 0.5873959\ttotal: 55s\tremaining: 21.2s\n",
      "722:\tlearn: 0.5873310\ttotal: 55.1s\tremaining: 21.1s\n",
      "723:\tlearn: 0.5872741\ttotal: 55.2s\tremaining: 21s\n",
      "724:\tlearn: 0.5871917\ttotal: 55.2s\tremaining: 20.9s\n",
      "725:\tlearn: 0.5871513\ttotal: 55.3s\tremaining: 20.9s\n",
      "726:\tlearn: 0.5871218\ttotal: 55.4s\tremaining: 20.8s\n",
      "727:\tlearn: 0.5870541\ttotal: 55.4s\tremaining: 20.7s\n",
      "728:\tlearn: 0.5870080\ttotal: 55.5s\tremaining: 20.6s\n",
      "729:\tlearn: 0.5869422\ttotal: 55.6s\tremaining: 20.5s\n",
      "730:\tlearn: 0.5869028\ttotal: 55.6s\tremaining: 20.5s\n",
      "731:\tlearn: 0.5868351\ttotal: 55.7s\tremaining: 20.4s\n",
      "732:\tlearn: 0.5867456\ttotal: 55.8s\tremaining: 20.3s\n",
      "733:\tlearn: 0.5867065\ttotal: 55.8s\tremaining: 20.2s\n",
      "734:\tlearn: 0.5866762\ttotal: 55.9s\tremaining: 20.2s\n",
      "735:\tlearn: 0.5866488\ttotal: 56s\tremaining: 20.1s\n",
      "736:\tlearn: 0.5865964\ttotal: 56s\tremaining: 20s\n",
      "737:\tlearn: 0.5865041\ttotal: 56.1s\tremaining: 19.9s\n",
      "738:\tlearn: 0.5864425\ttotal: 56.2s\tremaining: 19.8s\n",
      "739:\tlearn: 0.5863716\ttotal: 56.2s\tremaining: 19.8s\n",
      "740:\tlearn: 0.5863180\ttotal: 56.3s\tremaining: 19.7s\n",
      "741:\tlearn: 0.5862515\ttotal: 56.4s\tremaining: 19.6s\n",
      "742:\tlearn: 0.5861992\ttotal: 56.4s\tremaining: 19.5s\n",
      "743:\tlearn: 0.5861006\ttotal: 56.5s\tremaining: 19.4s\n",
      "744:\tlearn: 0.5860034\ttotal: 56.6s\tremaining: 19.4s\n",
      "745:\tlearn: 0.5859369\ttotal: 56.7s\tremaining: 19.3s\n",
      "746:\tlearn: 0.5858955\ttotal: 56.7s\tremaining: 19.2s\n",
      "747:\tlearn: 0.5858504\ttotal: 56.8s\tremaining: 19.1s\n",
      "748:\tlearn: 0.5857865\ttotal: 56.9s\tremaining: 19.1s\n",
      "749:\tlearn: 0.5857200\ttotal: 56.9s\tremaining: 19s\n",
      "750:\tlearn: 0.5856849\ttotal: 57s\tremaining: 18.9s\n",
      "751:\tlearn: 0.5856443\ttotal: 57s\tremaining: 18.8s\n",
      "752:\tlearn: 0.5855941\ttotal: 57.1s\tremaining: 18.7s\n",
      "753:\tlearn: 0.5855511\ttotal: 57.2s\tremaining: 18.7s\n",
      "754:\tlearn: 0.5854909\ttotal: 57.2s\tremaining: 18.6s\n",
      "755:\tlearn: 0.5854503\ttotal: 57.3s\tremaining: 18.5s\n",
      "756:\tlearn: 0.5853971\ttotal: 57.4s\tremaining: 18.4s\n",
      "757:\tlearn: 0.5853280\ttotal: 57.4s\tremaining: 18.3s\n",
      "758:\tlearn: 0.5852863\ttotal: 57.5s\tremaining: 18.3s\n",
      "759:\tlearn: 0.5851913\ttotal: 57.6s\tremaining: 18.2s\n",
      "760:\tlearn: 0.5851296\ttotal: 57.7s\tremaining: 18.1s\n",
      "761:\tlearn: 0.5850844\ttotal: 57.7s\tremaining: 18s\n",
      "762:\tlearn: 0.5850229\ttotal: 57.8s\tremaining: 17.9s\n",
      "763:\tlearn: 0.5849836\ttotal: 57.9s\tremaining: 17.9s\n",
      "764:\tlearn: 0.5849129\ttotal: 57.9s\tremaining: 17.8s\n",
      "765:\tlearn: 0.5848506\ttotal: 58s\tremaining: 17.7s\n",
      "766:\tlearn: 0.5847796\ttotal: 58s\tremaining: 17.6s\n",
      "767:\tlearn: 0.5847294\ttotal: 58.1s\tremaining: 17.6s\n",
      "768:\tlearn: 0.5846788\ttotal: 58.2s\tremaining: 17.5s\n",
      "769:\tlearn: 0.5846269\ttotal: 58.2s\tremaining: 17.4s\n",
      "770:\tlearn: 0.5845669\ttotal: 58.3s\tremaining: 17.3s\n",
      "771:\tlearn: 0.5845035\ttotal: 58.4s\tremaining: 17.2s\n",
      "772:\tlearn: 0.5844292\ttotal: 58.4s\tremaining: 17.2s\n",
      "773:\tlearn: 0.5843681\ttotal: 58.5s\tremaining: 17.1s\n",
      "774:\tlearn: 0.5843284\ttotal: 58.5s\tremaining: 17s\n",
      "775:\tlearn: 0.5842870\ttotal: 58.6s\tremaining: 16.9s\n",
      "776:\tlearn: 0.5842517\ttotal: 58.7s\tremaining: 16.8s\n",
      "777:\tlearn: 0.5842157\ttotal: 58.8s\tremaining: 16.8s\n",
      "778:\tlearn: 0.5841571\ttotal: 58.9s\tremaining: 16.7s\n",
      "779:\tlearn: 0.5841102\ttotal: 58.9s\tremaining: 16.6s\n",
      "780:\tlearn: 0.5840755\ttotal: 59s\tremaining: 16.5s\n",
      "781:\tlearn: 0.5839993\ttotal: 59s\tremaining: 16.5s\n",
      "782:\tlearn: 0.5839525\ttotal: 59.1s\tremaining: 16.4s\n",
      "783:\tlearn: 0.5839029\ttotal: 59.2s\tremaining: 16.3s\n",
      "784:\tlearn: 0.5838434\ttotal: 59.2s\tremaining: 16.2s\n",
      "785:\tlearn: 0.5838036\ttotal: 59.3s\tremaining: 16.1s\n",
      "786:\tlearn: 0.5837443\ttotal: 59.3s\tremaining: 16.1s\n",
      "787:\tlearn: 0.5837209\ttotal: 59.4s\tremaining: 16s\n",
      "788:\tlearn: 0.5836495\ttotal: 59.5s\tremaining: 15.9s\n",
      "789:\tlearn: 0.5836080\ttotal: 59.5s\tremaining: 15.8s\n",
      "790:\tlearn: 0.5834994\ttotal: 59.6s\tremaining: 15.8s\n",
      "791:\tlearn: 0.5834790\ttotal: 59.7s\tremaining: 15.7s\n",
      "792:\tlearn: 0.5834446\ttotal: 59.8s\tremaining: 15.6s\n",
      "793:\tlearn: 0.5834013\ttotal: 59.8s\tremaining: 15.5s\n",
      "794:\tlearn: 0.5833673\ttotal: 59.9s\tremaining: 15.4s\n",
      "795:\tlearn: 0.5832836\ttotal: 60s\tremaining: 15.4s\n",
      "796:\tlearn: 0.5832336\ttotal: 1m\tremaining: 15.3s\n",
      "797:\tlearn: 0.5832005\ttotal: 1m\tremaining: 15.2s\n",
      "798:\tlearn: 0.5831446\ttotal: 1m\tremaining: 15.2s\n",
      "799:\tlearn: 0.5830693\ttotal: 1m\tremaining: 15.1s\n",
      "800:\tlearn: 0.5829856\ttotal: 1m\tremaining: 15s\n",
      "801:\tlearn: 0.5829507\ttotal: 1m\tremaining: 15s\n",
      "802:\tlearn: 0.5828841\ttotal: 1m\tremaining: 14.9s\n",
      "803:\tlearn: 0.5828504\ttotal: 1m\tremaining: 14.8s\n",
      "804:\tlearn: 0.5827959\ttotal: 1m\tremaining: 14.7s\n",
      "805:\tlearn: 0.5827440\ttotal: 1m\tremaining: 14.7s\n",
      "806:\tlearn: 0.5826983\ttotal: 1m 1s\tremaining: 14.6s\n",
      "807:\tlearn: 0.5826521\ttotal: 1m 1s\tremaining: 14.5s\n",
      "808:\tlearn: 0.5826170\ttotal: 1m 1s\tremaining: 14.4s\n",
      "809:\tlearn: 0.5825539\ttotal: 1m 1s\tremaining: 14.4s\n",
      "810:\tlearn: 0.5825061\ttotal: 1m 1s\tremaining: 14.3s\n",
      "811:\tlearn: 0.5824664\ttotal: 1m 1s\tremaining: 14.2s\n",
      "812:\tlearn: 0.5823837\ttotal: 1m 1s\tremaining: 14.1s\n",
      "813:\tlearn: 0.5823262\ttotal: 1m 1s\tremaining: 14.1s\n",
      "814:\tlearn: 0.5822676\ttotal: 1m 1s\tremaining: 14s\n",
      "815:\tlearn: 0.5822071\ttotal: 1m 1s\tremaining: 13.9s\n",
      "816:\tlearn: 0.5821377\ttotal: 1m 1s\tremaining: 13.8s\n",
      "817:\tlearn: 0.5821040\ttotal: 1m 1s\tremaining: 13.8s\n",
      "818:\tlearn: 0.5820438\ttotal: 1m 1s\tremaining: 13.7s\n",
      "819:\tlearn: 0.5819634\ttotal: 1m 2s\tremaining: 13.6s\n",
      "820:\tlearn: 0.5819046\ttotal: 1m 2s\tremaining: 13.5s\n",
      "821:\tlearn: 0.5818384\ttotal: 1m 2s\tremaining: 13.5s\n",
      "822:\tlearn: 0.5817958\ttotal: 1m 2s\tremaining: 13.4s\n",
      "823:\tlearn: 0.5817520\ttotal: 1m 2s\tremaining: 13.3s\n",
      "824:\tlearn: 0.5816979\ttotal: 1m 2s\tremaining: 13.2s\n",
      "825:\tlearn: 0.5816570\ttotal: 1m 2s\tremaining: 13.2s\n",
      "826:\tlearn: 0.5816134\ttotal: 1m 2s\tremaining: 13.1s\n",
      "827:\tlearn: 0.5815241\ttotal: 1m 2s\tremaining: 13s\n",
      "828:\tlearn: 0.5814731\ttotal: 1m 2s\tremaining: 12.9s\n",
      "829:\tlearn: 0.5814168\ttotal: 1m 2s\tremaining: 12.9s\n",
      "830:\tlearn: 0.5813393\ttotal: 1m 2s\tremaining: 12.8s\n",
      "831:\tlearn: 0.5813002\ttotal: 1m 2s\tremaining: 12.7s\n",
      "832:\tlearn: 0.5812319\ttotal: 1m 3s\tremaining: 12.6s\n",
      "833:\tlearn: 0.5811727\ttotal: 1m 3s\tremaining: 12.6s\n",
      "834:\tlearn: 0.5811338\ttotal: 1m 3s\tremaining: 12.5s\n",
      "835:\tlearn: 0.5810865\ttotal: 1m 3s\tremaining: 12.4s\n",
      "836:\tlearn: 0.5810148\ttotal: 1m 3s\tremaining: 12.3s\n",
      "837:\tlearn: 0.5809721\ttotal: 1m 3s\tremaining: 12.2s\n",
      "838:\tlearn: 0.5809423\ttotal: 1m 3s\tremaining: 12.2s\n",
      "839:\tlearn: 0.5808980\ttotal: 1m 3s\tremaining: 12.1s\n",
      "840:\tlearn: 0.5808477\ttotal: 1m 3s\tremaining: 12s\n",
      "841:\tlearn: 0.5807870\ttotal: 1m 3s\tremaining: 11.9s\n",
      "842:\tlearn: 0.5807531\ttotal: 1m 3s\tremaining: 11.9s\n",
      "843:\tlearn: 0.5807090\ttotal: 1m 3s\tremaining: 11.8s\n",
      "844:\tlearn: 0.5806830\ttotal: 1m 3s\tremaining: 11.7s\n",
      "845:\tlearn: 0.5806404\ttotal: 1m 3s\tremaining: 11.6s\n",
      "846:\tlearn: 0.5806108\ttotal: 1m 4s\tremaining: 11.6s\n",
      "847:\tlearn: 0.5805626\ttotal: 1m 4s\tremaining: 11.5s\n",
      "848:\tlearn: 0.5805058\ttotal: 1m 4s\tremaining: 11.4s\n",
      "849:\tlearn: 0.5804316\ttotal: 1m 4s\tremaining: 11.3s\n",
      "850:\tlearn: 0.5803987\ttotal: 1m 4s\tremaining: 11.3s\n",
      "851:\tlearn: 0.5803563\ttotal: 1m 4s\tremaining: 11.2s\n",
      "852:\tlearn: 0.5803038\ttotal: 1m 4s\tremaining: 11.1s\n",
      "853:\tlearn: 0.5802469\ttotal: 1m 4s\tremaining: 11s\n",
      "854:\tlearn: 0.5802050\ttotal: 1m 4s\tremaining: 11s\n",
      "855:\tlearn: 0.5801461\ttotal: 1m 4s\tremaining: 10.9s\n",
      "856:\tlearn: 0.5800862\ttotal: 1m 4s\tremaining: 10.8s\n",
      "857:\tlearn: 0.5799943\ttotal: 1m 4s\tremaining: 10.7s\n",
      "858:\tlearn: 0.5799563\ttotal: 1m 4s\tremaining: 10.7s\n",
      "859:\tlearn: 0.5798899\ttotal: 1m 5s\tremaining: 10.6s\n",
      "860:\tlearn: 0.5798343\ttotal: 1m 5s\tremaining: 10.5s\n",
      "861:\tlearn: 0.5797865\ttotal: 1m 5s\tremaining: 10.4s\n",
      "862:\tlearn: 0.5797466\ttotal: 1m 5s\tremaining: 10.4s\n",
      "863:\tlearn: 0.5796946\ttotal: 1m 5s\tremaining: 10.3s\n",
      "864:\tlearn: 0.5796510\ttotal: 1m 5s\tremaining: 10.2s\n",
      "865:\tlearn: 0.5795947\ttotal: 1m 5s\tremaining: 10.1s\n",
      "866:\tlearn: 0.5795313\ttotal: 1m 5s\tremaining: 10s\n",
      "867:\tlearn: 0.5794882\ttotal: 1m 5s\tremaining: 9.97s\n",
      "868:\tlearn: 0.5794366\ttotal: 1m 5s\tremaining: 9.89s\n",
      "869:\tlearn: 0.5793885\ttotal: 1m 5s\tremaining: 9.81s\n",
      "870:\tlearn: 0.5793211\ttotal: 1m 5s\tremaining: 9.74s\n",
      "871:\tlearn: 0.5792630\ttotal: 1m 5s\tremaining: 9.66s\n",
      "872:\tlearn: 0.5792105\ttotal: 1m 5s\tremaining: 9.59s\n",
      "873:\tlearn: 0.5791561\ttotal: 1m 5s\tremaining: 9.51s\n",
      "874:\tlearn: 0.5791189\ttotal: 1m 6s\tremaining: 9.43s\n",
      "875:\tlearn: 0.5790614\ttotal: 1m 6s\tremaining: 9.36s\n",
      "876:\tlearn: 0.5790206\ttotal: 1m 6s\tremaining: 9.28s\n",
      "877:\tlearn: 0.5790017\ttotal: 1m 6s\tremaining: 9.2s\n",
      "878:\tlearn: 0.5789627\ttotal: 1m 6s\tremaining: 9.12s\n",
      "879:\tlearn: 0.5789083\ttotal: 1m 6s\tremaining: 9.05s\n",
      "880:\tlearn: 0.5788590\ttotal: 1m 6s\tremaining: 8.97s\n",
      "881:\tlearn: 0.5788188\ttotal: 1m 6s\tremaining: 8.89s\n",
      "882:\tlearn: 0.5787491\ttotal: 1m 6s\tremaining: 8.81s\n",
      "883:\tlearn: 0.5787140\ttotal: 1m 6s\tremaining: 8.74s\n",
      "884:\tlearn: 0.5786648\ttotal: 1m 6s\tremaining: 8.66s\n",
      "885:\tlearn: 0.5786068\ttotal: 1m 6s\tremaining: 8.58s\n",
      "886:\tlearn: 0.5785632\ttotal: 1m 6s\tremaining: 8.51s\n",
      "887:\tlearn: 0.5785291\ttotal: 1m 6s\tremaining: 8.43s\n",
      "888:\tlearn: 0.5784750\ttotal: 1m 6s\tremaining: 8.35s\n",
      "889:\tlearn: 0.5784281\ttotal: 1m 6s\tremaining: 8.28s\n",
      "890:\tlearn: 0.5783776\ttotal: 1m 7s\tremaining: 8.2s\n",
      "891:\tlearn: 0.5783109\ttotal: 1m 7s\tremaining: 8.12s\n",
      "892:\tlearn: 0.5782672\ttotal: 1m 7s\tremaining: 8.05s\n",
      "893:\tlearn: 0.5782318\ttotal: 1m 7s\tremaining: 7.97s\n",
      "894:\tlearn: 0.5782036\ttotal: 1m 7s\tremaining: 7.89s\n",
      "895:\tlearn: 0.5781176\ttotal: 1m 7s\tremaining: 7.82s\n",
      "896:\tlearn: 0.5780574\ttotal: 1m 7s\tremaining: 7.74s\n",
      "897:\tlearn: 0.5779802\ttotal: 1m 7s\tremaining: 7.66s\n",
      "898:\tlearn: 0.5779056\ttotal: 1m 7s\tremaining: 7.59s\n",
      "899:\tlearn: 0.5778708\ttotal: 1m 7s\tremaining: 7.51s\n",
      "900:\tlearn: 0.5778171\ttotal: 1m 7s\tremaining: 7.43s\n",
      "901:\tlearn: 0.5777619\ttotal: 1m 7s\tremaining: 7.36s\n",
      "902:\tlearn: 0.5777229\ttotal: 1m 7s\tremaining: 7.28s\n",
      "903:\tlearn: 0.5776719\ttotal: 1m 7s\tremaining: 7.21s\n",
      "904:\tlearn: 0.5775806\ttotal: 1m 7s\tremaining: 7.13s\n",
      "905:\tlearn: 0.5775517\ttotal: 1m 7s\tremaining: 7.05s\n",
      "906:\tlearn: 0.5775047\ttotal: 1m 8s\tremaining: 6.98s\n",
      "907:\tlearn: 0.5774685\ttotal: 1m 8s\tremaining: 6.9s\n",
      "908:\tlearn: 0.5773786\ttotal: 1m 8s\tremaining: 6.83s\n",
      "909:\tlearn: 0.5773219\ttotal: 1m 8s\tremaining: 6.75s\n",
      "910:\tlearn: 0.5772615\ttotal: 1m 8s\tremaining: 6.67s\n",
      "911:\tlearn: 0.5771910\ttotal: 1m 8s\tremaining: 6.6s\n",
      "912:\tlearn: 0.5771204\ttotal: 1m 8s\tremaining: 6.52s\n",
      "913:\tlearn: 0.5770734\ttotal: 1m 8s\tremaining: 6.45s\n",
      "914:\tlearn: 0.5770275\ttotal: 1m 8s\tremaining: 6.37s\n",
      "915:\tlearn: 0.5770021\ttotal: 1m 8s\tremaining: 6.29s\n",
      "916:\tlearn: 0.5769364\ttotal: 1m 8s\tremaining: 6.22s\n",
      "917:\tlearn: 0.5768818\ttotal: 1m 8s\tremaining: 6.14s\n",
      "918:\tlearn: 0.5767636\ttotal: 1m 8s\tremaining: 6.07s\n",
      "919:\tlearn: 0.5766618\ttotal: 1m 8s\tremaining: 5.99s\n",
      "920:\tlearn: 0.5765916\ttotal: 1m 8s\tremaining: 5.92s\n",
      "921:\tlearn: 0.5765098\ttotal: 1m 9s\tremaining: 5.84s\n",
      "922:\tlearn: 0.5764859\ttotal: 1m 9s\tremaining: 5.77s\n",
      "923:\tlearn: 0.5764577\ttotal: 1m 9s\tremaining: 5.69s\n",
      "924:\tlearn: 0.5764265\ttotal: 1m 9s\tremaining: 5.62s\n",
      "925:\tlearn: 0.5763934\ttotal: 1m 9s\tremaining: 5.54s\n",
      "926:\tlearn: 0.5763296\ttotal: 1m 9s\tremaining: 5.47s\n",
      "927:\tlearn: 0.5762844\ttotal: 1m 9s\tremaining: 5.39s\n",
      "928:\tlearn: 0.5762146\ttotal: 1m 9s\tremaining: 5.31s\n",
      "929:\tlearn: 0.5761405\ttotal: 1m 9s\tremaining: 5.24s\n",
      "930:\tlearn: 0.5760610\ttotal: 1m 9s\tremaining: 5.18s\n",
      "931:\tlearn: 0.5760422\ttotal: 1m 10s\tremaining: 5.11s\n",
      "932:\tlearn: 0.5760001\ttotal: 1m 10s\tremaining: 5.03s\n",
      "933:\tlearn: 0.5759227\ttotal: 1m 10s\tremaining: 4.96s\n",
      "934:\tlearn: 0.5758476\ttotal: 1m 10s\tremaining: 4.88s\n",
      "935:\tlearn: 0.5758040\ttotal: 1m 10s\tremaining: 4.82s\n",
      "936:\tlearn: 0.5757631\ttotal: 1m 10s\tremaining: 4.74s\n",
      "937:\tlearn: 0.5757164\ttotal: 1m 10s\tremaining: 4.67s\n",
      "938:\tlearn: 0.5756577\ttotal: 1m 10s\tremaining: 4.59s\n",
      "939:\tlearn: 0.5756096\ttotal: 1m 10s\tremaining: 4.52s\n",
      "940:\tlearn: 0.5755664\ttotal: 1m 10s\tremaining: 4.44s\n",
      "941:\tlearn: 0.5755163\ttotal: 1m 10s\tremaining: 4.37s\n",
      "942:\tlearn: 0.5754664\ttotal: 1m 11s\tremaining: 4.29s\n",
      "943:\tlearn: 0.5754041\ttotal: 1m 11s\tremaining: 4.22s\n",
      "944:\tlearn: 0.5753440\ttotal: 1m 11s\tremaining: 4.15s\n",
      "945:\tlearn: 0.5753045\ttotal: 1m 11s\tremaining: 4.08s\n",
      "946:\tlearn: 0.5752502\ttotal: 1m 11s\tremaining: 4.01s\n",
      "947:\tlearn: 0.5751734\ttotal: 1m 11s\tremaining: 3.94s\n",
      "948:\tlearn: 0.5751140\ttotal: 1m 11s\tremaining: 3.86s\n",
      "949:\tlearn: 0.5750805\ttotal: 1m 11s\tremaining: 3.79s\n",
      "950:\tlearn: 0.5750331\ttotal: 1m 12s\tremaining: 3.72s\n",
      "951:\tlearn: 0.5749952\ttotal: 1m 12s\tremaining: 3.64s\n",
      "952:\tlearn: 0.5749208\ttotal: 1m 12s\tremaining: 3.56s\n",
      "953:\tlearn: 0.5748767\ttotal: 1m 12s\tremaining: 3.49s\n",
      "954:\tlearn: 0.5748430\ttotal: 1m 12s\tremaining: 3.42s\n",
      "955:\tlearn: 0.5748202\ttotal: 1m 12s\tremaining: 3.34s\n",
      "956:\tlearn: 0.5747533\ttotal: 1m 12s\tremaining: 3.27s\n",
      "957:\tlearn: 0.5747141\ttotal: 1m 12s\tremaining: 3.19s\n",
      "958:\tlearn: 0.5746500\ttotal: 1m 12s\tremaining: 3.12s\n",
      "959:\tlearn: 0.5746085\ttotal: 1m 13s\tremaining: 3.04s\n",
      "960:\tlearn: 0.5745832\ttotal: 1m 13s\tremaining: 2.97s\n",
      "961:\tlearn: 0.5745130\ttotal: 1m 13s\tremaining: 2.89s\n",
      "962:\tlearn: 0.5744585\ttotal: 1m 13s\tremaining: 2.82s\n",
      "963:\tlearn: 0.5744018\ttotal: 1m 13s\tremaining: 2.75s\n",
      "964:\tlearn: 0.5743499\ttotal: 1m 13s\tremaining: 2.67s\n",
      "965:\tlearn: 0.5742912\ttotal: 1m 13s\tremaining: 2.59s\n",
      "966:\tlearn: 0.5742325\ttotal: 1m 13s\tremaining: 2.52s\n",
      "967:\tlearn: 0.5741811\ttotal: 1m 13s\tremaining: 2.44s\n",
      "968:\tlearn: 0.5741391\ttotal: 1m 13s\tremaining: 2.37s\n",
      "969:\tlearn: 0.5740964\ttotal: 1m 14s\tremaining: 2.29s\n",
      "970:\tlearn: 0.5740374\ttotal: 1m 14s\tremaining: 2.21s\n",
      "971:\tlearn: 0.5739759\ttotal: 1m 14s\tremaining: 2.14s\n",
      "972:\tlearn: 0.5739222\ttotal: 1m 14s\tremaining: 2.06s\n",
      "973:\tlearn: 0.5738824\ttotal: 1m 14s\tremaining: 1.98s\n",
      "974:\tlearn: 0.5738247\ttotal: 1m 14s\tremaining: 1.91s\n",
      "975:\tlearn: 0.5737778\ttotal: 1m 14s\tremaining: 1.83s\n",
      "976:\tlearn: 0.5737518\ttotal: 1m 14s\tremaining: 1.75s\n",
      "977:\tlearn: 0.5736756\ttotal: 1m 14s\tremaining: 1.68s\n",
      "978:\tlearn: 0.5736059\ttotal: 1m 14s\tremaining: 1.6s\n",
      "979:\tlearn: 0.5735518\ttotal: 1m 14s\tremaining: 1.52s\n",
      "980:\tlearn: 0.5735121\ttotal: 1m 14s\tremaining: 1.45s\n",
      "981:\tlearn: 0.5734747\ttotal: 1m 14s\tremaining: 1.37s\n",
      "982:\tlearn: 0.5734048\ttotal: 1m 14s\tremaining: 1.29s\n",
      "983:\tlearn: 0.5733112\ttotal: 1m 14s\tremaining: 1.22s\n",
      "984:\tlearn: 0.5732580\ttotal: 1m 15s\tremaining: 1.14s\n",
      "985:\tlearn: 0.5732247\ttotal: 1m 15s\tremaining: 1.06s\n",
      "986:\tlearn: 0.5731754\ttotal: 1m 15s\tremaining: 990ms\n",
      "987:\tlearn: 0.5731294\ttotal: 1m 15s\tremaining: 913ms\n",
      "988:\tlearn: 0.5730851\ttotal: 1m 15s\tremaining: 837ms\n",
      "989:\tlearn: 0.5730587\ttotal: 1m 15s\tremaining: 761ms\n",
      "990:\tlearn: 0.5730231\ttotal: 1m 15s\tremaining: 685ms\n",
      "991:\tlearn: 0.5729734\ttotal: 1m 15s\tremaining: 609ms\n",
      "992:\tlearn: 0.5729474\ttotal: 1m 15s\tremaining: 533ms\n",
      "993:\tlearn: 0.5729151\ttotal: 1m 15s\tremaining: 457ms\n",
      "994:\tlearn: 0.5728668\ttotal: 1m 15s\tremaining: 380ms\n",
      "995:\tlearn: 0.5728368\ttotal: 1m 15s\tremaining: 304ms\n",
      "996:\tlearn: 0.5727949\ttotal: 1m 15s\tremaining: 228ms\n",
      "997:\tlearn: 0.5727547\ttotal: 1m 15s\tremaining: 152ms\n",
      "998:\tlearn: 0.5727135\ttotal: 1m 15s\tremaining: 76.1ms\n",
      "999:\tlearn: 0.5726588\ttotal: 1m 16s\tremaining: 0us\n"
     ]
    },
    {
     "data": {
      "text/plain": [
       "<catboost.core.CatBoostClassifier at 0x3fb745c90>"
      ]
     },
     "execution_count": 62,
     "metadata": {},
     "output_type": "execute_result"
    }
   ],
   "source": [
    "model = CatBoostClassifier(\n",
    "    iterations = 1000,\n",
    "    learning_rate = 0.1,\n",
    "    l2_leaf_reg = 0.2,\n",
    "    auto_class_weights = 'Balanced'\n",
    ")\n",
    "\n",
    "model.fit(\n",
    "    X = X_train,\n",
    "    y = y_train\n",
    ")"
   ]
  },
  {
   "cell_type": "code",
   "execution_count": 63,
   "metadata": {},
   "outputs": [
    {
     "data": {
      "text/plain": [
       "<sklearn.metrics._plot.roc_curve.RocCurveDisplay at 0x40264b250>"
      ]
     },
     "execution_count": 63,
     "metadata": {},
     "output_type": "execute_result"
    },
    {
     "data": {
      "image/png": "[encoded data removed]",
      "text/plain": [
       "<Figure size 640x480 with 1 Axes>"
      ]
     },
     "metadata": {},
     "output_type": "display_data"
    }
   ],
   "source": [
    "RocCurveDisplay.from_estimator(\n",
    "    model, \n",
    "    X=X_test,\n",
    "    y=y_test\n",
    ")"
   ]
  },
  {
   "cell_type": "code",
   "execution_count": 64,
   "metadata": {
    "id": "gO9YiBEeTpio"
   },
   "outputs": [
    {
     "data": {
      "text/plain": [
       "['models/catboost_model.pkl']"
      ]
     },
     "execution_count": 64,
     "metadata": {},
     "output_type": "execute_result"
    }
   ],
   "source": [
    "joblib.dump(model, 'models/catboost_model.pkl')"
   ]
  },
  {
   "cell_type": "code",
   "execution_count": 65,
   "metadata": {},
   "outputs": [
    {
     "data": {
      "text/plain": [
       "['utm_source',\n",
       " 'utm_medium',\n",
       " 'utm_campaign',\n",
       " 'utm_adcontent',\n",
       " 'device_category',\n",
       " 'device_brand',\n",
       " 'device_screen_resolution',\n",
       " 'device_browser',\n",
       " 'geo_country',\n",
       " 'geo_city',\n",
       " 'from_social',\n",
       " 'is_organic']"
      ]
     },
     "execution_count": 65,
     "metadata": {},
     "output_type": "execute_result"
    }
   ],
   "source": [
    "model.feature_names_"
   ]
  },
  {
   "cell_type": "code",
   "execution_count": 66,
   "metadata": {},
   "outputs": [
    {
     "data": {
      "text/html": [
       "<div>\n",
       "<style scoped>\n",
       "    .dataframe tbody tr th:only-of-type {\n",
       "        vertical-align: middle;\n",
       "    }\n",
       "\n",
       "    .dataframe tbody tr th {\n",
       "        vertical-align: top;\n",
       "    }\n",
       "\n",
       "    .dataframe thead th {\n",
       "        text-align: right;\n",
       "    }\n",
       "</style>\n",
       "<table border=\"1\" class=\"dataframe\">\n",
       "  <thead>\n",
       "    <tr style=\"text-align: right;\">\n",
       "      <th></th>\n",
       "      <th>Unnamed: 0</th>\n",
       "      <th>utm_source</th>\n",
       "      <th>utm_medium</th>\n",
       "      <th>utm_campaign</th>\n",
       "      <th>utm_adcontent</th>\n",
       "      <th>device_category</th>\n",
       "      <th>device_brand</th>\n",
       "      <th>device_screen_resolution</th>\n",
       "      <th>device_browser</th>\n",
       "      <th>geo_country</th>\n",
       "      <th>geo_city</th>\n",
       "      <th>from_social</th>\n",
       "      <th>is_target</th>\n",
       "      <th>is_organic</th>\n",
       "    </tr>\n",
       "  </thead>\n",
       "  <tbody>\n",
       "    <tr>\n",
       "      <th>212</th>\n",
       "      <td>540</td>\n",
       "      <td>fDLlAcSmythWSCVMvqvL</td>\n",
       "      <td>(none)</td>\n",
       "      <td>LTuZkdKfxRGVceoWkVyg</td>\n",
       "      <td>JNHcPlZPxEMWDnRiyoBf</td>\n",
       "      <td>desktop</td>\n",
       "      <td>NaN</td>\n",
       "      <td>1920x1080</td>\n",
       "      <td>YaBrowser</td>\n",
       "      <td>Russia</td>\n",
       "      <td>Reutov</td>\n",
       "      <td>0</td>\n",
       "      <td>1</td>\n",
       "      <td>1</td>\n",
       "    </tr>\n",
       "    <tr>\n",
       "      <th>259</th>\n",
       "      <td>659</td>\n",
       "      <td>fDLlAcSmythWSCVMvqvL</td>\n",
       "      <td>(none)</td>\n",
       "      <td>LTuZkdKfxRGVceoWkVyg</td>\n",
       "      <td>JNHcPlZPxEMWDnRiyoBf</td>\n",
       "      <td>mobile</td>\n",
       "      <td>Samsung</td>\n",
       "      <td>360x760</td>\n",
       "      <td>Android Webview</td>\n",
       "      <td>Russia</td>\n",
       "      <td>Saint Petersburg</td>\n",
       "      <td>0</td>\n",
       "      <td>1</td>\n",
       "      <td>1</td>\n",
       "    </tr>\n",
       "    <tr>\n",
       "      <th>317</th>\n",
       "      <td>805</td>\n",
       "      <td>fDLlAcSmythWSCVMvqvL</td>\n",
       "      <td>(none)</td>\n",
       "      <td>LTuZkdKfxRGVceoWkVyg</td>\n",
       "      <td>JNHcPlZPxEMWDnRiyoBf</td>\n",
       "      <td>desktop</td>\n",
       "      <td>NaN</td>\n",
       "      <td>1366x768</td>\n",
       "      <td>YaBrowser</td>\n",
       "      <td>Russia</td>\n",
       "      <td>Elektrostal</td>\n",
       "      <td>0</td>\n",
       "      <td>1</td>\n",
       "      <td>1</td>\n",
       "    </tr>\n",
       "    <tr>\n",
       "      <th>355</th>\n",
       "      <td>881</td>\n",
       "      <td>bByPQxmDaMXgpHeypKSM</td>\n",
       "      <td>referral</td>\n",
       "      <td>LTuZkdKfxRGVceoWkVyg</td>\n",
       "      <td>JNHcPlZPxEMWDnRiyoBf</td>\n",
       "      <td>desktop</td>\n",
       "      <td>NaN</td>\n",
       "      <td>1280x1024</td>\n",
       "      <td>YaBrowser</td>\n",
       "      <td>Russia</td>\n",
       "      <td>Moscow</td>\n",
       "      <td>0</td>\n",
       "      <td>1</td>\n",
       "      <td>1</td>\n",
       "    </tr>\n",
       "    <tr>\n",
       "      <th>495</th>\n",
       "      <td>1271</td>\n",
       "      <td>fDLlAcSmythWSCVMvqvL</td>\n",
       "      <td>(none)</td>\n",
       "      <td>LTuZkdKfxRGVceoWkVyg</td>\n",
       "      <td>JNHcPlZPxEMWDnRiyoBf</td>\n",
       "      <td>mobile</td>\n",
       "      <td>Xiaomi</td>\n",
       "      <td>393x851</td>\n",
       "      <td>Chrome</td>\n",
       "      <td>Russia</td>\n",
       "      <td>Moscow</td>\n",
       "      <td>0</td>\n",
       "      <td>1</td>\n",
       "      <td>1</td>\n",
       "    </tr>\n",
       "    <tr>\n",
       "      <th>...</th>\n",
       "      <td>...</td>\n",
       "      <td>...</td>\n",
       "      <td>...</td>\n",
       "      <td>...</td>\n",
       "      <td>...</td>\n",
       "      <td>...</td>\n",
       "      <td>...</td>\n",
       "      <td>...</td>\n",
       "      <td>...</td>\n",
       "      <td>...</td>\n",
       "      <td>...</td>\n",
       "      <td>...</td>\n",
       "      <td>...</td>\n",
       "      <td>...</td>\n",
       "    </tr>\n",
       "    <tr>\n",
       "      <th>1905356</th>\n",
       "      <td>238972</td>\n",
       "      <td>ZpYIoDJMcFzVoPFsHGJL</td>\n",
       "      <td>banner</td>\n",
       "      <td>gecBYcKZCPMcVYdSSzKP</td>\n",
       "      <td>JNHcPlZPxEMWDnRiyoBf</td>\n",
       "      <td>mobile</td>\n",
       "      <td>Samsung</td>\n",
       "      <td>412x892</td>\n",
       "      <td>Samsung Internet</td>\n",
       "      <td>Russia</td>\n",
       "      <td>Moscow</td>\n",
       "      <td>0</td>\n",
       "      <td>1</td>\n",
       "      <td>0</td>\n",
       "    </tr>\n",
       "    <tr>\n",
       "      <th>1905357</th>\n",
       "      <td>238988</td>\n",
       "      <td>ZpYIoDJMcFzVoPFsHGJL</td>\n",
       "      <td>banner</td>\n",
       "      <td>gecBYcKZCPMcVYdSSzKP</td>\n",
       "      <td>JNHcPlZPxEMWDnRiyoBf</td>\n",
       "      <td>mobile</td>\n",
       "      <td>Samsung</td>\n",
       "      <td>412x892</td>\n",
       "      <td>Samsung Internet</td>\n",
       "      <td>Russia</td>\n",
       "      <td>Moscow</td>\n",
       "      <td>0</td>\n",
       "      <td>1</td>\n",
       "      <td>0</td>\n",
       "    </tr>\n",
       "    <tr>\n",
       "      <th>1905358</th>\n",
       "      <td>238991</td>\n",
       "      <td>ZpYIoDJMcFzVoPFsHGJL</td>\n",
       "      <td>banner</td>\n",
       "      <td>gecBYcKZCPMcVYdSSzKP</td>\n",
       "      <td>JNHcPlZPxEMWDnRiyoBf</td>\n",
       "      <td>mobile</td>\n",
       "      <td>Samsung</td>\n",
       "      <td>412x892</td>\n",
       "      <td>Samsung Internet</td>\n",
       "      <td>Russia</td>\n",
       "      <td>Moscow</td>\n",
       "      <td>0</td>\n",
       "      <td>1</td>\n",
       "      <td>0</td>\n",
       "    </tr>\n",
       "    <tr>\n",
       "      <th>1905453</th>\n",
       "      <td>240078</td>\n",
       "      <td>hTjLvqNxGggkGnxSCaTm</td>\n",
       "      <td>tg</td>\n",
       "      <td>wpmatvDuiMutnvmNVPJo</td>\n",
       "      <td>JNHcPlZPxEMWDnRiyoBf</td>\n",
       "      <td>desktop</td>\n",
       "      <td>NaN</td>\n",
       "      <td>1280x720</td>\n",
       "      <td>Chrome</td>\n",
       "      <td>Russia</td>\n",
       "      <td>Moscow</td>\n",
       "      <td>0</td>\n",
       "      <td>1</td>\n",
       "      <td>0</td>\n",
       "    </tr>\n",
       "    <tr>\n",
       "      <th>1905465</th>\n",
       "      <td>240195</td>\n",
       "      <td>kjsLglQLzykiRbcDiGcD</td>\n",
       "      <td>cpc</td>\n",
       "      <td>NaN</td>\n",
       "      <td>NaN</td>\n",
       "      <td>mobile</td>\n",
       "      <td>Xiaomi</td>\n",
       "      <td>393x873</td>\n",
       "      <td>Chrome</td>\n",
       "      <td>Russia</td>\n",
       "      <td>Saint Petersburg</td>\n",
       "      <td>0</td>\n",
       "      <td>1</td>\n",
       "      <td>0</td>\n",
       "    </tr>\n",
       "  </tbody>\n",
       "</table>\n",
       "<p>44870 rows × 14 columns</p>\n",
       "</div>"
      ],
      "text/plain": [
       "         Unnamed: 0            utm_source utm_medium          utm_campaign  \\\n",
       "212             540  fDLlAcSmythWSCVMvqvL     (none)  LTuZkdKfxRGVceoWkVyg   \n",
       "259             659  fDLlAcSmythWSCVMvqvL     (none)  LTuZkdKfxRGVceoWkVyg   \n",
       "317             805  fDLlAcSmythWSCVMvqvL     (none)  LTuZkdKfxRGVceoWkVyg   \n",
       "355             881  bByPQxmDaMXgpHeypKSM   referral  LTuZkdKfxRGVceoWkVyg   \n",
       "495            1271  fDLlAcSmythWSCVMvqvL     (none)  LTuZkdKfxRGVceoWkVyg   \n",
       "...             ...                   ...        ...                   ...   \n",
       "1905356      238972  ZpYIoDJMcFzVoPFsHGJL     banner  gecBYcKZCPMcVYdSSzKP   \n",
       "1905357      238988  ZpYIoDJMcFzVoPFsHGJL     banner  gecBYcKZCPMcVYdSSzKP   \n",
       "1905358      238991  ZpYIoDJMcFzVoPFsHGJL     banner  gecBYcKZCPMcVYdSSzKP   \n",
       "1905453      240078  hTjLvqNxGggkGnxSCaTm         tg  wpmatvDuiMutnvmNVPJo   \n",
       "1905465      240195  kjsLglQLzykiRbcDiGcD        cpc                   NaN   \n",
       "\n",
       "                utm_adcontent device_category device_brand  \\\n",
       "212      JNHcPlZPxEMWDnRiyoBf         desktop          NaN   \n",
       "259      JNHcPlZPxEMWDnRiyoBf          mobile      Samsung   \n",
       "317      JNHcPlZPxEMWDnRiyoBf         desktop          NaN   \n",
       "355      JNHcPlZPxEMWDnRiyoBf         desktop          NaN   \n",
       "495      JNHcPlZPxEMWDnRiyoBf          mobile       Xiaomi   \n",
       "...                       ...             ...          ...   \n",
       "1905356  JNHcPlZPxEMWDnRiyoBf          mobile      Samsung   \n",
       "1905357  JNHcPlZPxEMWDnRiyoBf          mobile      Samsung   \n",
       "1905358  JNHcPlZPxEMWDnRiyoBf          mobile      Samsung   \n",
       "1905453  JNHcPlZPxEMWDnRiyoBf         desktop          NaN   \n",
       "1905465                   NaN          mobile       Xiaomi   \n",
       "\n",
       "        device_screen_resolution    device_browser geo_country  \\\n",
       "212                    1920x1080         YaBrowser      Russia   \n",
       "259                      360x760   Android Webview      Russia   \n",
       "317                     1366x768         YaBrowser      Russia   \n",
       "355                    1280x1024         YaBrowser      Russia   \n",
       "495                      393x851            Chrome      Russia   \n",
       "...                          ...               ...         ...   \n",
       "1905356                  412x892  Samsung Internet      Russia   \n",
       "1905357                  412x892  Samsung Internet      Russia   \n",
       "1905358                  412x892  Samsung Internet      Russia   \n",
       "1905453                 1280x720            Chrome      Russia   \n",
       "1905465                  393x873            Chrome      Russia   \n",
       "\n",
       "                 geo_city  from_social  is_target  is_organic  \n",
       "212                Reutov            0          1           1  \n",
       "259      Saint Petersburg            0          1           1  \n",
       "317           Elektrostal            0          1           1  \n",
       "355                Moscow            0          1           1  \n",
       "495                Moscow            0          1           1  \n",
       "...                   ...          ...        ...         ...  \n",
       "1905356            Moscow            0          1           0  \n",
       "1905357            Moscow            0          1           0  \n",
       "1905358            Moscow            0          1           0  \n",
       "1905453            Moscow            0          1           0  \n",
       "1905465  Saint Petersburg            0          1           0  \n",
       "\n",
       "[44870 rows x 14 columns]"
      ]
     },
     "execution_count": 66,
     "metadata": {},
     "output_type": "execute_result"
    }
   ],
   "source": [
    "merged_data.loc[merged_data['is_target'] == 1]"
   ]
  },
  {
   "cell_type": "code",
   "execution_count": null,
   "metadata": {},
   "outputs": [],
   "source": []
  }
 ],
 "metadata": {
  "colab": {
   "authorship_tag": "ABX9TyPV0rlI23hH2SZo7zc132fy",
   "provenance": []
  },
  "kernelspec": {
   "display_name": "Python 3 (ipykernel)",
   "language": "python",
   "name": "python3"
  },
  "language_info": {
   "codemirror_mode": {
    "name": "ipython",
    "version": 3
   },
   "file_extension": ".py",
   "mimetype": "text/x-python",
   "name": "python",
   "nbconvert_exporter": "python",
   "pygments_lexer": "ipython3",
   "version": "3.11.7"
  }
 },
 "nbformat": 4,
 "nbformat_minor": 4
}
