{
 "cells": [
  {
   "cell_type": "code",
   "execution_count": 2,
   "id": "c506568e-6d2f-4329-b065-a1aec062a93c",
   "metadata": {},
   "outputs": [
    {
     "name": "stdout",
     "output_type": "stream",
     "text": [
      "{'predict': 1}\n"
     ]
    }
   ],
   "source": [
    "import requests\n",
    "import json\n",
    "\n",
    "data = {\n",
    "  \"utm_source\": \"fDLlAcSmythWSCVMvqvL\",\n",
    "  \"utm_medium\": \"(none)\",\n",
    "  \"utm_campaign\": \"LTuZkdKfxRGVceoWkVyg\",\n",
    "  \"utm_adcontent\": \"JNHcPlZPxEMWDnRiyoBf\",\n",
    "  \"utm_keyword\": \"puhZPIYqKXeFPaUviSjo\",\n",
    "  \"device_category\": \"mobile\",\n",
    "  \"device_os\": \"iOS\",\n",
    "  \"device_brand\": \"Xiaomi\",\n",
    "  \"device_model\": \"iPhone\",\n",
    "  \"device_screen_resolution\": \"360x720\",\n",
    "  \"device_browser\": \"Chrome\",\n",
    "  \"geo_country\": \"Russia\",\n",
    "  \"geo_city\": \"Moscow\"\n",
    "}\n",
    "\n",
    "response = requests.post(\"http://127.0.0.1:8000/predict/\", json=data, timeout=1000)\n",
    "\n",
    "if response.status_code == 200:\n",
    "    try:\n",
    "        print(response.json())\n",
    "    except json.JSONDecodeError:\n",
    "        print(\"Response is not in JSON format\")\n",
    "else:\n",
    "    print(\"Error: Request failed with status code\", response.status_code)"
   ]
  },
  {
   "cell_type": "code",
   "execution_count": null,
   "id": "71feeabc-8f3a-453a-bbfe-3c278ecb2fcb",
   "metadata": {},
   "outputs": [],
   "source": []
  }
 ],
 "metadata": {
  "kernelspec": {
   "display_name": "Python 3 (ipykernel)",
   "language": "python",
   "name": "python3"
  },
  "language_info": {
   "codemirror_mode": {
    "name": "ipython",
    "version": 3
   },
   "file_extension": ".py",
   "mimetype": "text/x-python",
   "name": "python",
   "nbconvert_exporter": "python",
   "pygments_lexer": "ipython3",
   "version": "3.11.7"
  }
 },
 "nbformat": 4,
 "nbformat_minor": 5
}
